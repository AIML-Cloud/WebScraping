{
 "cells": [
  {
   "cell_type": "markdown",
   "metadata": {},
   "source": [
    "# Web Scraping flipkart.com"
   ]
  },
  {
   "cell_type": "code",
   "execution_count": 1,
   "metadata": {
    "colab": {},
    "colab_type": "code",
    "id": "RRHVxHaCeH43"
   },
   "outputs": [],
   "source": [
    "from bs4 import BeautifulSoup # Importing the BeautifulSoup package\n",
    "import requests # Importing requests library\n",
    "import csv\n",
    "import pandas as pd "
   ]
  },
  {
   "cell_type": "code",
   "execution_count": 2,
   "metadata": {
    "colab": {},
    "colab_type": "code",
    "id": "iBGos1EV5OaT"
   },
   "outputs": [],
   "source": [
    "req = requests.get(\"https://www.flipkart.com/search?q=laptops&otracker=search&otracker1=search&marketplace=FLIPKART&as-show=on&as=off&page=1\") # Requesting the content of the URL\n",
    "content = req.content # Getting the content"
   ]
  },
  {
   "cell_type": "code",
   "execution_count": 3,
   "metadata": {
    "colab": {},
    "colab_type": "code",
    "id": "4kFqkGTt5Uek"
   },
   "outputs": [],
   "source": [
    "soup = BeautifulSoup(content,'html.parser') # Here we need to specify the content variable and the parser which is the HTML parser\n",
    "# So now soup is a variable of the BeautifulSoup object of our parsed HTML"
   ]
  },
  {
   "cell_type": "code",
   "execution_count": 7,
   "metadata": {
    "colab": {
     "base_uri": "https://localhost:8080/",
     "height": 1000
    },
    "colab_type": "code",
    "id": "7wMgQTdJ5W_O",
    "outputId": "9db99c0b-331c-4906-9cd1-9a835fddc46e",
    "scrolled": true,
    "tags": [
     "outputPrepend"
    ]
   },
   "outputs": [
    {
     "output_type": "stream",
     "name": "stdout",
     "text": [
      "ps\":[]},\"upiPollState\":{\"asyncStatus\":\"INIT\"},\"upiPollInfo\":{\"asyncStatus\":\"INIT\"},\"payViaWallet\":{\"asyncStatus\":\"INIT\"},\"adjustments\":{},\"otpModes\":{\"asyncStatus\":\"INIT\"},\"otpSubmitState\":{\"asyncStatus\":\"INIT\"},\"advancePaymentBreakup\":{\"asyncStatus\":\"INIT\"},\"selectInstrument\":{\"asyncStatus\":\"INIT\"},\"errorOverlay\":{},\"emiOnSavedCards\":{},\"emi2FADetails\":{\"asyncStatus\":\"INIT\"},\"mobileWalletOptions\":{\"asyncStatus\":\"INIT\",\"wallet_apps\":[],\"preSelectedWalletId\":\"\"},\"mobileWalletOtpState\":{\"asyncStatus\":\"INIT\"},\"mobileWalletBalance\":{}},\"paymentToken\":{\"asyncStatus\":\"INIT\",\"tokenVersion\":\"v3\",\"dcId\":\"\",\"error\":null},\"pincodeData\":{\"localPincodes\":[],\"suggestions\":[],\"regionFilters\":{},\"invalid\":false,\"state\":null,\"error\":null,\"asyncStatus\":\"INIT\"},\"productBuyBack\":{\"asyncStatus\":\"INIT\"},\"productInfo\":{\"ttl\":{}},\"productPage\":{\"verifyImeiInfo\":{\"asyncStatus\":\"INIT\"},\"brandSearchInfo\":{\"asyncStatus\":\"INIT\"},\"exchangeTooltip\":{\"asyncStatus\":\"INIT\",\"data\":{\"ROOT\":[]},\"pageNumber\":0,\"timeStamp\":1625206378983,\"derivedMetaData\":{}},\"exchangeTermsInfo\":{\"asyncStatus\":\"INIT\"},\"productSimilarReco\":{\"asyncStatus\":\"INIT\"},\"productCrossVerticalReco\":{\"asyncStatus\":\"INIT\"},\"productBrowsingHistoryReco\":{\"asyncStatus\":\"INIT\"},\"productDetails\":{\"asyncStatus\":\"INIT\"},\"productActions\":{\"share\":{\"asyncStatus\":\"INIT\"}},\"productReservation\":{\"asyncStatus\":\"INIT\"},\"productLayout\":{\"asyncStatus\":\"INIT\"},\"productImage\":{\"defaultMedia\":null},\"wiggleSwatches\":{},\"productABBData\":{\"asyncStatus\":\"INIT\"},\"recommendations\":{},\"updateExchangeAnswer\":{},\"productAttachs\":{}},\"productSummary\":{},\"questionAndAnswer\":{\"pageData\":{\"asyncStatus\":\"INIT\"},\"inputValue\":{\"asyncStatus\":\"INIT\"},\"deleteAnswer\":{\"asyncStatus\":\"INIT\"},\"allAnswers\":{\"asyncStatus\":\"INIT\"},\"moreContent\":{\"asyncStatus\":\"INIT\"},\"searchQnAData\":{\"asyncStatus\":\"INIT\"}},\"ratingsAndReviews\":{\"imageReviews\":{},\"gallery\":{\"url\":\"\",\"asyncStatus\":\"INIT\",\"images\":[],\"imagePositionMap\":{},\"pageNumber\":1,\"hasMorePages\":true}},\"recentlyViewed\":{\"asyncStatus\":\"INIT\"},\"reviewPageData\":{\"asyncStatus\":\"INIT\"},\"reviewPageTitle\":{\"asyncStatus\":\"INIT\"},\"reviewsConfirmationPage\":{\"asyncStatus\":\"INIT\"},\"saalListingsData\":{\"listings\":[]},\"sale\":{\"asmData\":null,\"index\":0,\"asyncStatus\":\"INIT\",\"popup\":null,\"error\":null},\"selfServe\":{\"appContext\":{\"context\":{\"maxPageLength\":10},\"pageLoadEvents\":[]},\"deliverySlots\":{\"asyncStatus\":\"INIT\"},\"dogfoodingData\":{\"asyncStatus\":\"INIT\",\"topics\":{}},\"ifscFinderData\":{\"asyncStatus\":\"INIT\"},\"myOrders\":{\"asyncStatus\":\"INIT\"},\"myOrdersV2\":{\"asyncStatus\":\"INIT\"},\"filters\":{\"asyncStatus\":\"INIT\",\"applied\":{},\"result\":{},\"applicable\":[],\"nextCallParams\":{},\"searched\":false},\"orderAddress\":{\"asyncStatus\":\"INIT\"},\"orderCancellation\":{\"asyncStatus\":\"INIT\",\"confirmed\":false},\"orderConfirmationPage\":{\"asyncStatus\":\"INIT\"},\"orderConfirmationPagePS2\":{\"asyncStatus\":\"INIT\"},\"orderConfirmationReco\":{\"asyncStatus\":\"INIT\"},\"postOrderDetails\":{\"asyncStatus\":\"INIT\"},\"postOrderDetailsV2\":{\"asyncStatus\":\"INIT\"},\"returnAddress\":{\"asyncStatus\":\"INIT\"},\"returns\":{\"asyncStatus\":\"INIT\",\"subStatus\":\"REASON\"},\"trackOrder\":{\"data\":{},\"asyncStatus\":\"INIT\"},\"bnplData\":{\"asyncStatus\":\"INIT\"},\"subscribeUnsubscribeData\":{\"asyncStatus\":\"INIT\"},\"returnVisualState\":{\"orderedSteps\":[],\"stepVisualStates\":{\"REASON\":\"COLLAPSED\",\"PICKUP_ADDRESS\":\"COLLAPSED\",\"IMAGE_UPLOAD\":\"COLLAPSED\",\"RETURN_ACTION\":\"COLLAPSED\"}},\"returnToken\":{\"reasonToken\":null,\"addressToken\":null,\"actionsToken\":null},\"neftData\":{\"asyncStatus\":\"INIT\"},\"neftIfscFinderData\":{\"asyncStatus\":\"INIT\"},\"cancelReturnData\":{\"asyncStatus\":\"INIT\"},\"payNow\":{\"asyncStatus\":\"INIT\"},\"ndrData\":{\"asyncStatus\":\"INIT\"},\"reschedule\":{},\"addressChange\":{\"asyncStatus\":\"INIT\"},\"fileManager\":{\"files\":[],\"filesSize\":0,\"dataURLs\":[]},\"imageInstructions\":{\"asyncStatus\":\"INIT\"},\"serviceListing\":{},\"payNowPreorder\":{\"asyncStatus\":\"INIT\"},\"prexoChecks\":{\"asyncStatus\":\"INIT\"},\"issues\":{\"asyncStatus\":\"INIT\"},\"issueDetails\":{\"asyncStatus\":\"INIT\"},\"userInfo\":null,\"blobIO\":{\"asyncStatus\":\"INIT\"},\"nudges\":{\"asyncStatus\":\"INIT\",\"claimedInfo\":{\"claimed\":false},\"data\":{\"reason\":null,\"REASON_BASED\":null,\"REASON_AGNOSTIC\":null}}},\"sellerDetails\":{\"asyncStatus\":\"INIT\",\"data\":[]},\"sellersPage\":{\"asyncStatus\":\"INIT\"},\"seoMeta\":{\"isFetching\":false,\"metadata\":{\"seo\":{\"alexaVerifyId\":false,\"description\":\"Laptops- Buy Products Online at Best Price in India. India's Leading E-commerce Company - Free Home Delivery - All Categories | Flipkart.com\",\"googleSiteVerification\":false,\"keywords\":\"Laptops\",\"noIndexSeo\":true,\"ogTitle\":\"Laptops- Buy Products Online at Best Price in India - All Categories | Flipkart.com\",\"title\":\"Laptops- Buy Products Online at Best Price in India - All Categories | Flipkart.com\"}},\"asyncStatus\":\"SUCCESS\",\"answerBox\":{\"type\":\"ANSWER_BOX\",\"data\":{\"renderableComponents\":[{\"action\":null,\"metaData\":null,\"tracking\":null,\"trackingData\":null,\"value\":{\"type\":\"AnswerBoxValue\",\"data\":[{\"title\":\"HP 15s Ryzen 3 Dual Core 3250U - (8 GB/1 TB HDD/256 GB SSD/Windows 10 Home) 15s-GR0012AU Laptop\",\"url\":\"/hp-15s-ryzen-3-dual-core-3250u-8-gb-1-tb-hdd-256-gb-ssd-windows-10-home-15s-gr0012au-laptop/p/itm9e1f8deeed35f?pid=COMFZHFWBE7APPH2&lid=LSTCOMFZHFWBE7APPH2AR705G&marketplace=FLIPKART\",\"values\":[\"Rs. 41990\"]},{\"title\":\"acer Aspire 7 Core i5 10th Gen - (8 GB/512 GB SSD/Windows 10 Home/4 GB Graphics/NVIDIA GeForce GTX 1650) A715-75G-50TA/ A715-75G-41G Gaming Laptop\",\"url\":\"/acer-aspire-7-core-i5-10th-gen-8-gb-512-gb-ssd-windows-10-home-4-graphics-nvidia-geforce-gtx-1650-a715-75g-50ta-a715-75g-41g-gaming-laptop/p/itmc97c3da5d2abe?pid=COMG2KBG2K4GFFF7&lid=LSTCOMG2KBG2K4GFFF78YBPHO&marketplace=FLIPKART\",\"values\":[\"Rs. 56990\"]},{\"title\":\"DELL Vostro Core i3 10th Gen - (8 GB/1 TB HDD/Windows 10 Home) Vostro 3401 Thin and Light Laptop\",\"url\":\"/dell-vostro-core-i3-10th-gen-8-gb-1-tb-hdd-windows-10-home-3401-thin-light-laptop/p/itm0b45b63fac02d?pid=COMFYZC5Y4GZYEWN&lid=LSTCOMFYZC5Y4GZYEWNAE8BRJ&marketplace=FLIPKART\",\"values\":[\"Rs. 37342\"]},{\"title\":\"Lenovo IdeaPad Gaming 3 Core i5 10th Gen - (8 GB/1 TB HDD/256 GB SSD/Windows 10 Home/4 GB Graphics/NVIDIA GeForce GTX 1650) 15IMH05 Gaming Laptop\",\"url\":\"/lenovo-ideapad-gaming-3-core-i5-10th-gen-8-gb-1-tb-hdd-256-gb-ssd-windows-10-home-4-graphics-nvidia-geforce-gtx-1650-15imh05-laptop/p/itm8d98a546c99ee?pid=COMG36BSPQNWGUY3&lid=LSTCOMG36BSPQNWGUY3MJ4EVV&marketplace=FLIPKART\",\"values\":[\"Rs. 63990\"]},{\"title\":\"HP 14s Core i3 11th Gen - (8 GB/512 GB SSD/Windows 10 Home) 14s- DR2015TU Thin and Light Laptop\",\"url\":\"/hp-14s-core-i3-11th-gen-8-gb-512-gb-ssd-windows-10-home-14s-dr2015tu-thin-light-laptop/p/itm3207eaabf1371?pid=COMG2HKGZ8XJG9WA&lid=LSTCOMG2HKGZ8XJG9WACGEGGV&marketplace=FLIPKART\",\"values\":[\"Rs. 46990\"]},{\"title\":\"APPLE MacBook Air M1 - (8 GB/256 GB SSD/Mac OS Big Sur) MGN63HN/A\",\"url\":\"/apple-macbook-air-m1-8-gb-256-gb-ssd-mac-os-big-sur-mgn63hn-a/p/itmde54f026889ce?pid=COMFXEKMGNHZYFH9&lid=LSTCOMFXEKMGNHZYFH9EOWT4E&marketplace=FLIPKART\",\"values\":[\"Rs. 92900\"]},{\"title\":\"HP 15s Core i3 10th Gen - (8 GB/1 TB HDD/256 GB SSD/Windows 10 Home) 15s-du1064TU Laptop\",\"url\":\"/hp-15s-core-i3-10th-gen-8-gb-1-tb-hdd-256-gb-ssd-windows-10-home-15s-du1064tu-laptop/p/itmab561bd2356cb?pid=COMG22MXAZQSA2FV&lid=LSTCOMG22MXAZQSA2FV8D2FDN&marketplace=FLIPKART\",\"values\":[\"Rs. 43790\"]},{\"title\":\"HP Core i3 11th Gen - (8 GB/256 GB SSD/Windows 10 Home) 15s-FQ2075TU Thin and Light Laptop\",\"url\":\"/hp-core-i3-11th-gen-8-gb-256-gb-ssd-windows-10-home-15s-fq2075tu-thin-light-laptop/p/itm188b1cdcb8cc3?pid=COMGYSSUJMGPVDHF&lid=LSTCOMGYSSUJMGPVDHFNVZQQQ&marketplace=FLIPKART\",\"values\":[\"Rs. 40990\"]},{\"title\":\"Lenovo Ideapad Gaming 3 Ryzen 5 Hexa Core 4600H - (8 GB/1 TB HDD/256 GB SSD/Windows 10 Home/4 GB Graphics/NVIDIA GeForce GTX 1650/120 Hz) 15ARH05 Gaming Laptop\",\"url\":\"/lenovo-ideapad-gaming-3-ryzen-5-hexa-core-4600h-8-gb-1-tb-hdd-256-gb-ssd-windows-10-home-4-graphics-nvidia-geforce-gtx-1650-120-hz-15arh05-laptop/p/itm5bebf27dba264?pid=COMG36BSYCJQMNSW&lid=LSTCOMG36BSYCJQMNSWZFTKI7&marketplace=FLIPKART\",\"values\":[\"Rs. 62990\"]},{\"title\":\"ASUS TUF Gaming F15 Core i5 10th Gen - (8 GB/512 GB SSD/Windows 10 Home/4 GB Graphics/NVIDIA GeForce GTX 1650/144 Hz) FX506LH-HN258T Gaming Laptop\",\"url\":\"/asus-tuf-gaming-f15-core-i5-10th-gen-8-gb-512-gb-ssd-windows-10-home-4-graphics-nvidia-geforce-gtx-1650-144-hz-fx506lh-hn258t-laptop/p/itm834e03127f443?pid=COMGFVWMDZPGK4WR&lid=LSTCOMGFVWMDZPGK4WRWRM8ES&marketplace=FLIPKART\",\"values\":[\"Rs. 60990\"]}],\"footer\":\"This data was last updated on 2021/07/05\",\"heading\":{\"title\":\"Laptops\",\"values\":[\"Price\"]}}}]},\"header\":{\"action\":null,\"metaData\":null,\"tracking\":null,\"trackingData\":null,\"value\":{\"type\":\"HeaderValue\",\"actionButton\":null,\"actionButtonArrowEnable\":null,\"actionButtonEnable\":null,\"actionButtonTextValue\":null,\"collapsed\":false,\"collapsible\":false,\"headerDetailsValue\":null,\"imageValue\":null,\"referenceImageValue\":null,\"showActionButton\":false,\"showHeader\":true,\"subTitleValue\":null,\"tags\":null,\"timerValue\":null,\"titleValue\":{\"type\":\"TitleValue\",\"image\":null,\"style\":null,\"text\":\"Laptops Price List\"}}}}},\"singleReview\":{\"asyncStatus\":\"INIT\"},\"stickyBasket\":{\"data\":{}},\"subscription\":{\"asyncStatus\":\"INIT\"},\"suggestions\":{},\"surveyState\":{\"asyncStatus\":\"INIT\"},\"swatches\":{\"asyncStatus\":\"INIT\",\"productSwatchDetails\":{}},\"tooltip\":{\"id\":null},\"userState\":{\"cart\":{\"fkItems\":[],\"groceryItems\":[],\"items\":[]},\"asyncStatus\":\"SUCCESS\",\"error\":null,\"abResponse\":{\"abDataId\":1978494855,\"abExperiments\":[{\"abId\":\"017ccb4d\",\"appId\":\"sherlock\",\"expId\":\"sensitive_category_filter_2_june_2021\",\"layerName\":\"sherlock-matching\",\"metadata\":{\"bucket[]\":\"sc_filter\",\"trackingId\":\"sc_filter\"}},{\"abId\":\"11b0f755\",\"appId\":\"Checkout\",\"expId\":\"GH Collated Payments experiments\",\"layerName\":\"Paymets\",\"metadata\":{\"footer_banner_experiment\":2,\"COD_captcha_1\":1,\"enableTextChangesOnPayment\":true,\"trust_marker_experiment\":2,\"cod_captcha_2\":1,\"card_eligibility_check\":2}},{\"abId\":\"1dbace51\",\"appId\":\"G2N\",\"expId\":\"IVRS_Pincode_language_selection\",\"layerName\":\"Return\",\"metadata\":{\"Lang_selection\":true}},{\"abId\":\"1fd172f0\",\"appId\":\"sherlock\",\"expId\":\"Ranking_control_18_may\",\"layerName\":\"search-ranking\",\"metadata\":{\"rankingBucket\":\"PROD\"}},{\"abId\":\"3619c4d4\",\"appId\":\"Mapi\",\"expId\":\"Scratch Cards - Test\",\"layerName\":\"Gamification_1\",\"metadata\":{\"showScratchCard\":true}},{\"abId\":\"438993e9\",\"appId\":\"Mapi\",\"expId\":\"CONTROL 07/05\",\"layerName\":\"Product\",\"metadata\":{}},{\"abId\":\"5703ee4b\",\"appId\":\"CXSelfServe\",\"expId\":\"EHC - Return SOP\",\"layerName\":\"PostOrderRelated\",\"metadata\":{\"return_sop\":true}},{\"abId\":\"5994db8d\",\"appId\":\"lockin\",\"expId\":\"SCZPhase1a\",\"layerName\":\"Loyalty page\",\"metadata\":{\"super-dynam-202d5\":\"super-dynam-921a1\"}},{\"abId\":\"59a18ecf\",\"appId\":\"Mapi\",\"expId\":\"Voice FCP Test\",\"layerName\":\"VoiceAssistant\",\"metadata\":{\"voicePostUrl\":\"https://assistant.flipkart.net/1/speech/\",\"voiceWebsocketUrl\":\"wss://assistant.flipkart.net/1/speech/ws/join\"}},{\"abId\":\"5a5c0c86\",\"appId\":\"DiscJockey\",\"expId\":\"Auction Density Variant 1\",\"layerName\":\"Merchandising Homepage\",\"metadata\":{\"FLIPKART.HOMEPAGE.MApp.en.first.auctionDensity\":8,\"FLIPKART.HOMEPAGE.MApp.en.other.auctionDensity\":8,\"FLIPKART.HOMEPAGE.MApp.otherFold.cpFoldSize\":20,\"FLIPKART.HOMEPAGE.MApp.firstFold.cpFoldSize\":30,\"FLIPKART.HOMEPAGE.MApp.en.other.cpAuctionDensity\":8,\"FLIPKART.HOMEPAGE.MApp.en.first.cpAuctionDensity\":8}},{\"abId\":\"6f4976c6\",\"appId\":\"sherlock\",\"expId\":\"VALUE_COMMUNICATION_MVP\",\"layerName\":\"sherlock-experience\",\"metadata\":{\"viewRulesAbBucketName\":\"valueComm\",\"pinningRuleAbKey\":\"valueComm\",\"sourcerRuleAbKey\":\"valueComm\"}},{\"abId\":\"7b03e89e\",\"appId\":\"Astra\",\"expId\":\"GH | PP Other content | Control\",\"layerName\":\"PP Other Content\",\"metadata\":{}},{\"abId\":\"7edcd355\",\"appId\":\"Vernacular\",\"expId\":\"New Vernac Address - Test\",\"layerName\":\"ProductPageVernac\",\"metadata\":{\"enableAddressTransliteration\":true}},{\"abId\":\"8c19bbf6\",\"appId\":\"Msite\",\"expId\":\"GH | Backtest - increase font size for discount\",\"layerName\":\"msite login\",\"metadata\":{\"enableMrpSizeExptPP\":false,\"enableMrpSizeExptSPBPListView\":false,\"enableMrpSizeExptOS\":false,\"enableMrpSizeExptCart\":false,\"enableMrpSizeExptSPBPGridView\":false}},{\"abId\":\"8c74ce2f\",\"appId\":\"layout\",\"expId\":\"Premium Nav X4 Test - 9thMay2021\",\"layerName\":\"LandingPages\",\"metadata\":{\"cohor-homep-78e0f\":\"cohor-homep-7fe20\",\"cohor-homep-5c997\":\"cohor-homep-54b35\",\"cohor-homep-1b273\":\"cohor-homep-1970e\",\"cohor-homep-a7595\":\"cohor-homep-85df2\"}},{\"abId\":\"9bf4cff6\",\"appId\":\"HomePage\",\"expId\":\"NU All in - 4thJuly'21\",\"layerName\":\"NU HP\",\"metadata\":{\"cohor-homep-e95cd\":\"nuall-homep-1aa8f\",\"cohor-homep-7906f\":\"nuall-homep-ad54e\"}},{\"abId\":\"ab381bb7\",\"appId\":\"Checkout\",\"expId\":\"GH | cart AOV U2O | CONTROL\",\"layerName\":\"Cart_AoV_U2O\",\"metadata\":{}},{\"abId\":\"b7e492b3\",\"appId\":\"Mapi\",\"expId\":\"GH | Android Login | Control - 17th June\",\"layerName\":\"Android Login\",\"metadata\":{}},{\"abId\":\"be80208b\",\"appId\":\"TNS\",\"expId\":\"PP_exp_layer_7\",\"layerName\":\"rto_cod\",\"metadata\":{\"ruleModel\":\"ruleModelV1\",\"tnsModel\":\"mlModelV6dot1\",\"RTO_VALIDATION_RULE\":true}},{\"abId\":\"d1cdba1c\",\"appId\":\"sherlock\",\"expId\":\"Autosuggest_LM_Test_5July\",\"layerName\":\"sherlock-autosuggest\",\"metadata\":{\"as-solr-bucket\":\"lm_catalog\",\"lm_test_5july_as-cache\":\"lm_test_5july_as-cache\"}},{\"abId\":\"d38f83c0\",\"appId\":\"Astra\",\"expId\":\"GH | PP listing Info | control\",\"layerName\":\"PP Product Listing info\",\"metadata\":{}},{\"abId\":\"d92d2d60\",\"appId\":\"ugc\",\"expId\":\"UGC2_Colln_Control\",\"layerName\":\"UGC2\",\"metadata\":{}},{\"abId\":\"e90232f2\",\"appId\":\"Videos\",\"expId\":\"Control_V2\",\"layerName\":\"Videos HomePage\",\"metadata\":{\"IsControl\":true}},{\"abId\":\"ea222fc6\",\"appId\":\"layout\",\"expId\":\"NCFV2_VISUAL_FILTER_10JUN_2021\",\"layerName\":\"Browse\",\"metadata\":{\"v2VisualFilterAB\":true}},{\"abId\":\"eeba2f43\",\"appId\":\"FlipkartQuick\",\"expId\":\"CatNav Testing\",\"layerName\":\"Flipkart Quick\",\"metadata\":{\"flipk-categ-8daf8\":\"flipk-categ-5d950\"}},{\"abId\":\"f3be1c03\",\"appId\":\"Astra\",\"expId\":\"Address PII Changes\",\"layerName\":\"PP Product Details and UGC\",\"metadata\":{\"enableNewDeliveryAddressView\":true}}]},\"groceryEnabled\":true,\"locale\":\"en\",\"location\":{\"communityStore\":null,\"selectedLocation\":null},\"lockinResponse\":{\"flipkartLogoAction\":{\"constraints\":null,\"fallback\":null,\"loginType\":\"LOGIN_NOT_REQUIRED\",\"omnitureData\":null,\"originalUrl\":\"/plus\",\"params\":{\"valid\":true,\"screenName\":\"LOYALTY_PAGE\"},\"requiredPermissionType\":null,\"screenType\":\"multiWidgetPage\",\"tracking\":{},\"type\":\"NAVIGATION\",\"url\":\"/plus\",\"validationMeta\":null},\"userMembershipState\":\"NON_LOGGED_IN\"},\"tmxTransactionId\":\"d98a0afa-3a51-45c3-becc-bfb5bacf4b03\",\"accountId\":null,\"asn\":null,\"firstName\":null,\"flipkartFirstUser\":false,\"isLoggedIn\":false,\"lastName\":null,\"ts\":0,\"twoFa\":false,\"omnitureInfo\":{\"additionProperties\":null,\"bucketId\":\"73\",\"ingestionEnabled\":false},\"userEmail\":null},\"winnerList\":{\"asyncStatus\":\"INIT\"},\"wishlistItemDetails\":{\"asyncStatus\":\"INIT\"},\"redeemVoucherReducer\":{\"asyncStatus\":\"INIT\"},\"apiError\":{},\"floodLights\":{\"visible\":false,\"isClickTriggered\":false},\"userAddressData\":{\"asyncStatus\":\"INIT\",\"data\":null},\"locationUpdate\":{\"asyncStatus\":\"INIT\",\"data\":{\"currentPincode\":\"\"}},\"productServiceabilityInfo\":{\"asyncStatus\":\"INIT\",\"data\":null},\"validate2Fa\":{\"asyncStatus\":\"INIT\"},\"actionViewReducer\":{\"asyncStatus\":\"INIT\"},\"notifPrefsAccordion\":{\"items\":[]},\"TravelSearchData\":{\"journeyList\":[{\"minDate\":\"2021-07-02T06:12:59.030Z\",\"journeyStartDate\":\"2021-07-03T06:12:59.030Z\",\"requestKey\":\"Sat Jul 03 2021 11:42:59 GMT+0530 (India Standard Time)\",\"origin\":{\"isDirty\":false,\"isEmpty\":true},\"dest\":{\"isDirty\":false,\"isEmpty\":true}}],\"selectedTripType\":\"ONE_WAY\",\"travellers\":{\"adult\":1,\"child\":0,\"infant\":0},\"fieldChanged\":\"EMPTY\",\"initialPrefillData\":{\"selectedTripType\":\"ONE_WAY\",\"travellers\":{\"adult\":1,\"child\":0,\"infant\":0},\"journeyList\":[{\"minDate\":\"2021-07-02T06:12:59.030Z\",\"journeyStartDate\":\"2021-07-03T06:12:59.030Z\",\"requestKey\":\"Sat Jul 03 2021 11:42:59 GMT+0530 (India Standard Time)\",\"origin\":{\"isDirty\":false,\"isEmpty\":true},\"dest\":{\"isDirty\":false,\"isEmpty\":true}}]}},\"TravelSearchValidation\":{\"isValid\":false},\"FareCalendarData\":{\"asyncStatus\":\"INIT\"},\"cityAutoSuggestion\":{},\"sectionSlotData\":{\"activeIndex\":0,\"sectionMetaData\":[]},\"wiggleValidationData\":{\"wiggleData\":{}},\"cbcApplyReducer\":{\"asyncStatus\":\"INIT\"}};\n  </script>\n  <script nonce=\"10898921755470175767\">\n   window.__BUNDLE_IDS__ = {\"children\":[{\"id\":\"navMenu\"}]};\n  </script>\n  <script nonce=\"10898921755470175767\">\n   window.omniture={tpv:[],tl:[]};window.omniture.trackPageView=function(){window.omniture.tpv.push(arguments)};window.omniture.trackLink=function(){window.omniture.tl.push(arguments)}\n\n    if(window.location.host === 'www.flipkart.com' || /\\.store\\.flipkart\\.com/i.test(window.location.host)){\n        window.s_account = \"flipkart-prd\"; //omniture account id\n    }else{\n        window.s_account = \"flipkart-prd-test\";\n    }\n    window.s_isDesktop = true;\n  </script>\n  <script nonce=\"10898921755470175767\">\n   if ('serviceWorker' in navigator && navigator.userAgent.indexOf(\"Mobile\") === -1) {\n\t\tnavigator.serviceWorker.register('/sw.js').then(function(registration) {\n\t\t\tconsole.log('ServiceWorker registration successful with scope: ', registration.scope);\n\t\t\tnavigator.onLine && navigator.serviceWorker.controller && navigator.serviceWorker.controller.postMessage('BANDWIDTH_COMPUTE');\n\t\t\tnavigator.serviceWorker.addEventListener('message', function (event) {\n\t\t\t\ttry {\n\t\t\t\t\tconst bandwidthData = JSON.parse(event.data);\n\t\t\t\t\tif (bandwidthData && bandwidthData.data) {\n\t\t\t\t\t\twindow.bandwidth = bandwidthData.data.downlink + '_' + bandwidthData.data.computeMethod + '_' + bandwidthData.data.effectiveType + '_' + bandwidthData.data.type;\n\t\t\t\t\t}\n\t\t\t\t}catch(err) {\n\t\t\t\t\tconsole.error('JSON.parse failed:', err);\n\t\t\t\t}\n\t\t\t});\n\t\t})\n\t\t.catch(function(err) {\n\t\t\tconsole.error('ServiceWorker registration failed: ', err);\n\t\t});\n\t} else if('serviceWorker' in navigator && navigator.userAgent.indexOf(\"Mobile\") > -1){\n        navigator.serviceWorker.getRegistration().then(function(registration) {\n            var serviceWorkerUnregistered=false;\n            if(registration) {\n                registration.unregister();\n                serviceWorkerUnregistered=true;\n            }\n            serviceWorkerUnregistered && window.location.reload();\n        });\n    }\n  </script>\n  <script nonce=\"10898921755470175767\" src=\"//static-assets-web.flixcart.com/www/linchpin/fk-cp-zion/js/raven.3.22.3.js\">\n  </script>\n  <script nonce=\"10898921755470175767\">\n   window.Raven && window.Raven.config('https://b2fe488e344a47eda53b8d306edec9b7@sentry.flipkart.com/2',{\n\t\trelease: '4.43.3',\n\t\twhitelistUrls: [\n\t\t\t/flipkart\\.com/,\n\t\t\t/flixcart\\.com/\n\t\t],\n\t\tignoreErrors: [\n\t\t\t// Random plugins/extensions\n\t\t\t'top.GLOBALS',\n\t\t\t// See: http://blog.errorception.com/2012/03/tale-of-unfindable-js-error.html\n\t\t\t'originalCreateNotification',\n\t\t\t'canvas.contentDocument',\n\t\t\t'MyApp_RemoveAllHighlights',\n\t\t\t'atomicFindClose',\n\t\t\t// Facebook borked\n\t\t\t'fb_xd_fragment',\n\t\t\t// ISP \"optimizing\" proxy - `Cache-Control: no-transform` seems to reduce this. (thanks @acdha)\n\t\t\t// See http://stackoverflow.com/questions/4113268/how-to-stop-javascript-injection-from-vodafone-proxy\n\t\t\t'bmi_SafeAddOnload',\n\t\t\t'EBCallBackMessageReceived',\n\t\t\t'failed to fetch'\n\t\t],\n\t\tignoreUrls: [\n\t\t\t// Facebook flakiness\n\t\t\t/graph\\.facebook\\.com/i,\n\t\t\t// Facebook blocked\n\t\t\t/connect\\.facebook\\.net\\/en_US\\/all\\.js/i,\n\t\t\t// Chrome extensions\n\t\t\t/extensions\\//i,\n\t\t\t/^chrome:\\/\\//i\n\t\t],\n\t\tsanitizeKeys: ['nsid', 'secureToken', 'SN'],\n\t\tenvironment: 'production',\n\t\tsampleRate: 0.5\n\t}).install();\n\twindow.Raven && window.Raven.setUserContext({\n\t\taccountId: ''\n\t});\n  </script>\n  <script async=\"\" defer=\"defer\" id=\"omni_script\" nonce=\"10898921755470175767\" src=\"//static-assets-web.flixcart.com/www/linchpin/batman-returns/omni/omni16.js\">\n  </script>\n  <script nonce=\"10898921755470175767\">\n   window._pxAppId = 'PXgNtTli3A';\n  </script>\n  <script async=\"\" nonce=\"10898921755470175767\" src=\"//static-assets-web.flixcart.com/px/gNtTli3A/init.js\">\n  </script>\n </body>\n</html>\n"
     ]
    }
   ],
   "source": [
    "print(soup.prettify()) # Displays the whole code of the website"
   ]
  },
  {
   "cell_type": "code",
   "execution_count": 27,
   "metadata": {
    "colab": {
     "base_uri": "https://localhost:8080/",
     "height": 34
    },
    "colab_type": "code",
    "id": "G2BwQ3u35ZZ2",
    "outputId": "3cdd939d-1011-480e-8ea5-3941545ac36b"
   },
   "outputs": [
    {
     "output_type": "execute_result",
     "data": {
      "text/plain": [
       "24"
      ]
     },
     "metadata": {},
     "execution_count": 27
    }
   ],
   "source": [
    "desc = soup.find_all('div' , class_='_2kHMtA') # Extracting the descriptions from the website using the find method - grabbing the div tag which has the classname _3wU53n\n",
    "# So now this returns all the div tags with the classname of _3wU53n\n",
    "# As class is a special keyword in python we have to use the class_ keyword and pass the arguments here\n",
    "descriptions = []\n",
    "for i in range(len(desc)):\n",
    "    descriptions.append(desc[i].text) # We can even access the child tags with dot access.\n",
    "descriptions\n",
    "len(descriptions)"
   ]
  },
  {
   "cell_type": "code",
   "execution_count": 28,
   "metadata": {},
   "outputs": [
    {
     "output_type": "execute_result",
     "data": {
      "text/plain": [
       "cker=search&amp;otracker1=search&amp;fm=organic&amp;iid=631d2635-01b3-432e-9e24-b79a6e5bc4e6.COMFTWZD9Z8VVABB.SEARCH&amp;ppt=None&amp;ppn=None&amp;ssid=6eo4z4mbm80000001625474453835&amp;qH=c06ea84a1e3dc3c6\" rel=\"noopener noreferrer\" target=\"_blank\"><div class=\"MIXNux\"><div class=\"_2QcLo-\"><div><div class=\"CXW8mj\" style=\"height:200px;width:200px\"><img alt=\"ASUS Core i3 10th Gen - (4 GB/512 GB SSD/Windows 10 Home) X413JA-EK267T||X413JA-EB302T Thin and Light ...\" class=\"_396cs4 _3exPp9\" src=\"https://rukminim1.flixcart.com/image/312/312/kh9gbrk0/computer/a/d/5/asus-na-thin-and-light-laptop-original-imafxbj7sxqsrvzk.jpeg?q=70\"/></div></div></div><div class=\"_3wLduG\"><div class=\"_3PzNI-\"><span class=\"f3A4_V\"><label class=\"_2iDkf8\"><input class=\"_30VH1S\" readonly=\"\" type=\"checkbox\"/><div class=\"_24_Dny\"></div></label></span><label class=\"_6Up2sF\"><span>Add to Compare</span></label></div></div><div class=\"_2hVSre _3nq8ih\"><div class=\"_36FSn5\"><svg class=\"_1l0elc\" height=\"16\" viewbox=\"0 0 20 16\" width=\"16\" xmlns=\"http://www.w3.org/2000/svg\"><path class=\"eX72wL\" d=\"M8.695 16.682C4.06 12.382 1 9.536 1 6.065 1 3.219 3.178 1 5.95 1c1.566 0 3.069.746 4.05 1.915C10.981 1.745 12.484 1 14.05 1 16.822 1 19 3.22 19 6.065c0 3.471-3.06 6.316-7.695 10.617L10 17.897l-1.305-1.215z\" fill=\"#2874F0\" fill-rule=\"evenodd\" opacity=\".9\" stroke=\"#FFF\"></path></svg></div></div></div><div class=\"_3pLy-c row\"><div class=\"col col-7-12\"><div class=\"_4rR01T\">ASUS Core i3 10th Gen - (4 GB/512 GB SSD/Windows 10 Home) X413JA-EK267T||X413JA-EB302T Thin and Light ...</div><div class=\"gUuXy-\"><span class=\"_1lRcqv\" id=\"productRating_LSTCOMFTWZD9Z8VVABBA4VHKD_COMFTWZD9Z8VVABB_\"><div class=\"_3LWZlK\">4.3<img class=\"_1wB99o\" src=\"data:image/svg+xml;base64,PHN2ZyB4bWxucz0iaHR0cDovL3d3dy53My5vcmcvMjAwMC9zdmciIHdpZHRoPSIxMyIgaGVpZ2h0PSIxMiI+PHBhdGggZmlsbD0iI0ZGRiIgZD0iTTYuNSA5LjQzOWwtMy42NzQgMi4yMy45NC00LjI2LTMuMjEtMi44ODMgNC4yNTQtLjQwNEw2LjUuMTEybDEuNjkgNC4wMSA0LjI1NC40MDQtMy4yMSAyLjg4Mi45NCA0LjI2eiIvPjwvc3ZnPg==\"/></div></span><span class=\"_2_R_DZ\"><span><span>1,912 Ratings </span><span class=\"_13vcmD\">&amp;</span><span> 290 Reviews</span></span></span></div><div class=\"fMghEO\"><ul class=\"_1xgFaf\"><li class=\"rgWa7D\">Intel Core i3 Processor (10th Gen)</li><li class=\"rgWa7D\">4 GB DDR4 RAM</li><li class=\"rgWa7D\">64 bit Windows 10 Operating System</li><li class=\"rgWa7D\">512 GB SSD</li><li class=\"rgWa7D\">35.56 cm (14 inch) Display</li><li class=\"rgWa7D\">My Asus, Splendid, Tru2Life</li><li class=\"rgWa7D\">1 Year Onsite Warranty</li></ul></div></div><div class=\"col col-5-12 nlI3QM\"><div class=\"_3tbKJL\"><div class=\"_25b18c\"><div class=\"_30jeq3 _1_WHN1\">₹38,990</div><div class=\"_3I9_wc _27UcVY\">₹<!-- -->49,990</div><div class=\"_3Ay6Sb\"><span>22% off</span></div></div></div><div class=\"_13J9qT\"><img height=\"21\" src=\"//static-assets-web.flixcart.com/www/linchpin/fk-cp-zion/img/fa_62673a.png\"/></div><div class=\"_2ZdXDB\"><div class=\"_3xFhiH\"><div class=\"_2Tpdn3 _18hQoS\" style=\"color:#000000;font-size:12px;font-style:normal;font-weight:400\">No Cost EMI</div></div></div></div></div></a></div>,\n",
       " <div class=\"_2kHMtA\"><a class=\"_1fQZEK\" href=\"/asus-vivobook-gaming-core-i5-9th-gen-8-gb-512-gb-ssd-windows-10-home-4-graphics-nvidia-geforce-gtx-1650-f571gt-bn913ts-laptop/p/itm8dba8769b86c8?pid=COMG26W4WKY8GUAR&amp;lid=LSTCOMG26W4WKY8GUARCMASBH&amp;marketplace=FLIPKART&amp;q=laptops&amp;store=6bo%2Fb5g&amp;srno=s_1_20&amp;otracker=search&amp;otracker1=search&amp;fm=organic&amp;iid=631d2635-01b3-432e-9e24-b79a6e5bc4e6.COMG26W4WKY8GUAR.SEARCH&amp;ppt=None&amp;ppn=None&amp;ssid=6eo4z4mbm80000001625474453835&amp;qH=c06ea84a1e3dc3c6\" rel=\"noopener noreferrer\" target=\"_blank\"><div class=\"MIXNux\"><div class=\"_2QcLo-\"><div><div class=\"CXW8mj\" style=\"height:200px;width:200px\"><img alt=\"ASUS Vivobook Gaming Core i5 9th Gen - (8 GB/512 GB SSD/Windows 10 Home/4 GB Graphics/NVIDIA GeForce G...\" class=\"_396cs4 _3exPp9\" src=\"https://rukminim1.flixcart.com/image/312/312/kolsscw0/computer/b/a/x/na-gaming-laptop-asus-original-imag3f9nqhhrk7vu.jpeg?q=70\"/></div></div></div><div class=\"_3wLduG\"><div class=\"_3PzNI-\"><span class=\"f3A4_V\"><label class=\"_2iDkf8\"><input class=\"_30VH1S\" readonly=\"\" type=\"checkbox\"/><div class=\"_24_Dny\"></div></label></span><label class=\"_6Up2sF\"><span>Add to Compare</span></label></div></div><div class=\"_2hVSre _3nq8ih\"><div class=\"_36FSn5\"><svg class=\"_1l0elc\" height=\"16\" viewbox=\"0 0 20 16\" width=\"16\" xmlns=\"http://www.w3.org/2000/svg\"><path class=\"eX72wL\" d=\"M8.695 16.682C4.06 12.382 1 9.536 1 6.065 1 3.219 3.178 1 5.95 1c1.566 0 3.069.746 4.05 1.915C10.981 1.745 12.484 1 14.05 1 16.822 1 19 3.22 19 6.065c0 3.471-3.06 6.316-7.695 10.617L10 17.897l-1.305-1.215z\" fill=\"#2874F0\" fill-rule=\"evenodd\" opacity=\".9\" stroke=\"#FFF\"></path></svg></div></div></div><div class=\"_3pLy-c row\"><div class=\"col col-7-12\"><div class=\"_4rR01T\">ASUS Vivobook Gaming Core i5 9th Gen - (8 GB/512 GB SSD/Windows 10 Home/4 GB Graphics/NVIDIA GeForce G...</div><div class=\"gUuXy-\"><span class=\"_1lRcqv\" id=\"productRating_LSTCOMG26W4WKY8GUARCMASBH_COMG26W4WKY8GUAR_\"><div class=\"_3LWZlK\">4.3<img class=\"_1wB99o\" src=\"data:image/svg+xml;base64,PHN2ZyB4bWxucz0iaHR0cDovL3d3dy53My5vcmcvMjAwMC9zdmciIHdpZHRoPSIxMyIgaGVpZ2h0PSIxMiI+PHBhdGggZmlsbD0iI0ZGRiIgZD0iTTYuNSA5LjQzOWwtMy42NzQgMi4yMy45NC00LjI2LTMuMjEtMi44ODMgNC4yNTQtLjQwNEw2LjUuMTEybDEuNjkgNC4wMSA0LjI1NC40MDQtMy4yMSAyLjg4Mi45NCA0LjI2eiIvPjwvc3ZnPg==\"/></div></span><span class=\"_2_R_DZ\"><span><span>319 Ratings </span><span class=\"_13vcmD\">&amp;</span><span> 56 Reviews</span></span></span></div><div class=\"fMghEO\"><ul class=\"_1xgFaf\"><li class=\"rgWa7D\">Intel Core i5 Processor (9th Gen)</li><li class=\"rgWa7D\">8 GB DDR4 RAM</li><li class=\"rgWa7D\">64 bit Windows 10 Operating System</li><li class=\"rgWa7D\">512 GB SSD</li><li class=\"rgWa7D\">39.62 cm (15.6 inch) Display</li><li class=\"rgWa7D\">Microsoft Office Home and Student 2019, Splendid (All Models), Tru2Life (Intel Platform Models), Link to MyASUS (All Models, Bluetooth Needed)</li><li class=\"rgWa7D\">1 Year Onsite Warranty</li></ul></div></div><div class=\"col col-5-12 nlI3QM\"><div class=\"_3tbKJL\"><div class=\"_25b18c\"><div class=\"_30jeq3 _1_WHN1\">₹54,990</div><div class=\"_3I9_wc _27UcVY\">₹<!-- -->76,990</div><div class=\"_3Ay6Sb\"><span>28% off</span></div></div></div><div class=\"_13J9qT\"><img height=\"21\" src=\"//static-assets-web.flixcart.com/www/linchpin/fk-cp-zion/img/fa_62673a.png\"/></div><div class=\"_2ZdXDB\"><div class=\"_3xFhiH\"><div class=\"_2Tpdn3 _18hQoS\" style=\"color:#000000;font-size:12px;font-style:normal;font-weight:400\">No Cost EMI</div></div></div></div></div></a></div>,\n",
       " <div class=\"_2kHMtA\"><a class=\"_1fQZEK\" href=\"/lenovo-ideapad-core-i3-11th-gen-8-gb-256-gb-ssd-windows-10-home-3-14itl6-thin-light-laptop/p/itme394efe6065a9?pid=COMG3HHRJNHEQ4HY&amp;lid=LSTCOMG3HHRJNHEQ4HYT7GZED&amp;marketplace=FLIPKART&amp;q=laptops&amp;store=6bo%2Fb5g&amp;srno=s_1_21&amp;otracker=search&amp;otracker1=search&amp;fm=organic&amp;iid=631d2635-01b3-432e-9e24-b79a6e5bc4e6.COMG3HHRJNHEQ4HY.SEARCH&amp;ppt=None&amp;ppn=None&amp;ssid=6eo4z4mbm80000001625474453835&amp;qH=c06ea84a1e3dc3c6\" rel=\"noopener noreferrer\" target=\"_blank\"><div class=\"MIXNux\"><div class=\"_2QcLo-\"><div><div class=\"CXW8mj\" style=\"height:200px;width:200px\"><img alt=\"Lenovo IdeaPad Core i3 11th Gen - (8 GB/256 GB SSD/Windows 10 Home) IdeaPad 3 14ITL6 Thin and Light La...\" class=\"_396cs4 _3exPp9\" src=\"https://rukminim1.flixcart.com/image/312/312/kpft18w0/computer/h/q/n/na-thin-and-light-laptop-lenovo-original-imag3zc8tzvqd26n.jpeg?q=70\"/></div></div></div><div class=\"_3wLduG\"><div class=\"_3PzNI-\"><span class=\"f3A4_V\"><label class=\"_2iDkf8\"><input class=\"_30VH1S\" readonly=\"\" type=\"checkbox\"/><div class=\"_24_Dny\"></div></label></span><label class=\"_6Up2sF\"><span>Add to Compare</span></label></div></div><div class=\"_2hVSre _3nq8ih\"><div class=\"_36FSn5\"><svg class=\"_1l0elc\" height=\"16\" viewbox=\"0 0 20 16\" width=\"16\" xmlns=\"http://www.w3.org/2000/svg\"><path class=\"eX72wL\" d=\"M8.695 16.682C4.06 12.382 1 9.536 1 6.065 1 3.219 3.178 1 5.95 1c1.566 0 3.069.746 4.05 1.915C10.981 1.745 12.484 1 14.05 1 16.822 1 19 3.22 19 6.065c0 3.471-3.06 6.316-7.695 10.617L10 17.897l-1.305-1.215z\" fill=\"#2874F0\" fill-rule=\"evenodd\" opacity=\".9\" stroke=\"#FFF\"></path></svg></div></div></div><div class=\"_3pLy-c row\"><div class=\"col col-7-12\"><div class=\"_4rR01T\">Lenovo IdeaPad Core i3 11th Gen - (8 GB/256 GB SSD/Windows 10 Home) IdeaPad 3 14ITL6 Thin and Light La...</div><div class=\"gUuXy-\"><span class=\"_1lRcqv\" id=\"productRating_LSTCOMG3HHRJNHEQ4HYT7GZED_COMG3HHRJNHEQ4HY_\"><div class=\"_3LWZlK\">5<img class=\"_1wB99o\" src=\"data:image/svg+xml;base64,PHN2ZyB4bWxucz0iaHR0cDovL3d3dy53My5vcmcvMjAwMC9zdmciIHdpZHRoPSIxMyIgaGVpZ2h0PSIxMiI+PHBhdGggZmlsbD0iI0ZGRiIgZD0iTTYuNSA5LjQzOWwtMy42NzQgMi4yMy45NC00LjI2LTMuMjEtMi44ODMgNC4yNTQtLjQwNEw2LjUuMTEybDEuNjkgNC4wMSA0LjI1NC40MDQtMy4yMSAyLjg4Mi45NCA0LjI2eiIvPjwvc3ZnPg==\"/></div></span><span class=\"_2_R_DZ\"><span><span>3 Ratings </span><span class=\"_13vcmD\">&amp;</span><span> 1 Reviews</span></span></span></div><div class=\"fMghEO\"><ul class=\"_1xgFaf\"><li class=\"rgWa7D\">Intel Core i3 Processor (11th Gen)</li><li class=\"rgWa7D\">8 GB DDR4 RAM</li><li class=\"rgWa7D\">64 bit Windows 10 Operating System</li><li class=\"rgWa7D\">256 GB SSD</li><li class=\"rgWa7D\">35.56 cm (14 Inch) Display</li><li class=\"rgWa7D\">Microsoft Office Home and Student 2019</li><li class=\"rgWa7D\">1 Year Onsite Warranty</li></ul></div></div><div class=\"col col-5-12 nlI3QM\"><div class=\"_3tbKJL\"><div class=\"_25b18c\"><div class=\"_30jeq3 _1_WHN1\">₹43,990</div><div class=\"_3I9_wc _27UcVY\">₹<!-- -->58,890</div><div class=\"_3Ay6Sb\"><span>25% off</span></div></div></div><div class=\"_13J9qT\"><img height=\"21\" src=\"//static-assets-web.flixcart.com/www/linchpin/fk-cp-zion/img/fa_62673a.png\"/></div><div class=\"_2ZdXDB\"><div class=\"_3xFhiH\"><div class=\"_2Tpdn3 _18hQoS\" style=\"color:#000000;font-size:12px;font-style:normal;font-weight:400\">No Cost EMI</div></div></div></div></div></a></div>,\n",
       " <div class=\"_2kHMtA\"><a class=\"_1fQZEK\" href=\"/hp-15s-athlon-dual-core-4-gb-1-tb-hdd-windows-10-home-15s-gy0001au-thin-light-laptop/p/itmfde60f9520336?pid=COMGFHGFZ7HFZSBA&amp;lid=LSTCOMGFHGFZ7HFZSBAUX64XI&amp;marketplace=FLIPKART&amp;q=laptops&amp;store=6bo%2Fb5g&amp;srno=s_1_22&amp;otracker=search&amp;otracker1=search&amp;fm=organic&amp;iid=631d2635-01b3-432e-9e24-b79a6e5bc4e6.COMGFHGFZ7HFZSBA.SEARCH&amp;ppt=None&amp;ppn=None&amp;ssid=6eo4z4mbm80000001625474453835&amp;qH=c06ea84a1e3dc3c6\" rel=\"noopener noreferrer\" target=\"_blank\"><div class=\"MIXNux\"><div class=\"_2QcLo-\"><div><div class=\"CXW8mj\" style=\"height:200px;width:200px\"><img alt=\"HP 15s Athlon Dual Core - (4 GB/1 TB HDD/Windows 10 Home) 15s-GY0001AU Thin and Light Laptop\" class=\"_396cs4 _3exPp9\" src=\"https://rukminim1.flixcart.com/image/312/312/khwbde80/computer/c/4/h/hp-original-imafxtarxygbevbh.jpeg?q=70\"/></div></div></div><div class=\"_3wLduG\"><div class=\"_3PzNI-\"><span class=\"f3A4_V\"><label class=\"_2iDkf8\"><input class=\"_30VH1S\" readonly=\"\" type=\"checkbox\"/><div class=\"_24_Dny\"></div></label></span><label class=\"_6Up2sF\"><span>Add to Compare</span></label></div></div><div class=\"_2hVSre _3nq8ih\"><div class=\"_36FSn5\"><svg class=\"_1l0elc\" height=\"16\" viewbox=\"0 0 20 16\" width=\"16\" xmlns=\"http://www.w3.org/2000/svg\"><path class=\"eX72wL\" d=\"M8.695 16.682C4.06 12.382 1 9.536 1 6.065 1 3.219 3.178 1 5.95 1c1.566 0 3.069.746 4.05 1.915C10.981 1.745 12.484 1 14.05 1 16.822 1 19 3.22 19 6.065c0 3.471-3.06 6.316-7.695 10.617L10 17.897l-1.305-1.215z\" fill=\"#2874F0\" fill-rule=\"evenodd\" opacity=\".9\" stroke=\"#FFF\"></path></svg></div></div></div><div class=\"_3pLy-c row\"><div class=\"col col-7-12\"><div class=\"_4rR01T\">HP 15s Athlon Dual Core - (4 GB/1 TB HDD/Windows 10 Home) 15s-GY0001AU Thin and Light Laptop</div><div class=\"gUuXy-\"><span class=\"_1lRcqv\" id=\"productRating_LSTCOMGFHGFZ7HFZSBAUX64XI_COMGFHGFZ7HFZSBA_\"><div class=\"_3LWZlK\">3.9<img class=\"_1wB99o\" src=\"data:image/svg+xml;base64,PHN2ZyB4bWxucz0iaHR0cDovL3d3dy53My5vcmcvMjAwMC9zdmciIHdpZHRoPSIxMyIgaGVpZ2h0PSIxMiI+PHBhdGggZmlsbD0iI0ZGRiIgZD0iTTYuNSA5LjQzOWwtMy42NzQgMi4yMy45NC00LjI2LTMuMjEtMi44ODMgNC4yNTQtLjQwNEw2LjUuMTEybDEuNjkgNC4wMSA0LjI1NC40MDQtMy4yMSAyLjg4Mi45NCA0LjI2eiIvPjwvc3ZnPg==\"/></div></span><span class=\"_2_R_DZ\"><span><span>895 Ratings </span><span class=\"_13vcmD\">&amp;</span><span> 111 Reviews</span></span></span></div><div class=\"fMghEO\"><ul class=\"_1xgFaf\"><li class=\"rgWa7D\">AMD Athlon Dual Core Processor</li><li class=\"rgWa7D\">4 GB DDR4 RAM</li><li class=\"rgWa7D\">64 bit Windows 10 Operating System</li><li class=\"rgWa7D\">1 TB HDD</li><li class=\"rgWa7D\">39.62 cm (15.6 inch) Display</li><li class=\"rgWa7D\">Microsoft Office Home &amp; Student 2019, HP Documentation, HP Smart, HP Support Assistant</li><li class=\"rgWa7D\">1 Year Onsite Warranty</li></ul></div></div><div class=\"col col-5-12 nlI3QM\"><div class=\"_3tbKJL\"><div class=\"_25b18c\"><div class=\"_30jeq3 _1_WHN1\">₹27,490</div><div class=\"_3I9_wc _27UcVY\">₹<!-- -->28,420</div><div class=\"_3Ay6Sb\"><span>3% off</span></div></div></div><div class=\"_13J9qT\"><img height=\"21\" src=\"//static-assets-web.flixcart.com/www/linchpin/fk-cp-zion/img/fa_62673a.png\"/></div><div class=\"_2ZdXDB\"><div class=\"_3xFhiH\"><div class=\"_2Tpdn3 _18hQoS\" style=\"color:#000000;font-size:12px;font-style:normal;font-weight:400\">No Cost EMI</div></div></div></div></div></a></div>,\n",
       " <div class=\"_2kHMtA\"><a class=\"_1fQZEK\" href=\"/hp-15s-core-i3-10th-gen-8-gb-1-tb-hdd-256-gb-ssd-windows-10-home-15s-du1064tu-laptop/p/itmab561bd2356cb?pid=COMG22MXAZQSA2FV&amp;lid=LSTCOMG22MXAZQSA2FV8D2FDN&amp;marketplace=FLIPKART&amp;q=laptops&amp;store=6bo%2Fb5g&amp;srno=s_1_23&amp;otracker=search&amp;otracker1=search&amp;fm=organic&amp;iid=631d2635-01b3-432e-9e24-b79a6e5bc4e6.COMG22MXAZQSA2FV.SEARCH&amp;ppt=None&amp;ppn=None&amp;ssid=6eo4z4mbm80000001625474453835&amp;qH=c06ea84a1e3dc3c6\" rel=\"noopener noreferrer\" target=\"_blank\"><div class=\"MIXNux\"><div class=\"_2QcLo-\"><div><div class=\"CXW8mj\" style=\"height:200px;width:200px\"><img alt=\"HP 15s Core i3 10th Gen - (8 GB/1 TB HDD/256 GB SSD/Windows 10 Home) 15s-du1064TU Laptop\" class=\"_396cs4 _3exPp9\" src=\"https://rukminim1.flixcart.com/image/312/312/kbqu4cw0/computer/t/d/f/hp-original-imaftyzafphshjge.jpeg?q=70\"/></div></div></div><div class=\"_3wLduG\"><div class=\"_3PzNI-\"><span class=\"f3A4_V\"><label class=\"_2iDkf8\"><input class=\"_30VH1S\" readonly=\"\" type=\"checkbox\"/><div class=\"_24_Dny\"></div></label></span><label class=\"_6Up2sF\"><span>Add to Compare</span></label></div></div><div class=\"_2hVSre _3nq8ih\"><div class=\"_36FSn5\"><svg class=\"_1l0elc\" height=\"16\" viewbox=\"0 0 20 16\" width=\"16\" xmlns=\"http://www.w3.org/2000/svg\"><path class=\"eX72wL\" d=\"M8.695 16.682C4.06 12.382 1 9.536 1 6.065 1 3.219 3.178 1 5.95 1c1.566 0 3.069.746 4.05 1.915C10.981 1.745 12.484 1 14.05 1 16.822 1 19 3.22 19 6.065c0 3.471-3.06 6.316-7.695 10.617L10 17.897l-1.305-1.215z\" fill=\"#2874F0\" fill-rule=\"evenodd\" opacity=\".9\" stroke=\"#FFF\"></path></svg></div></div></div><div class=\"_3pLy-c row\"><div class=\"col col-7-12\"><div class=\"_4rR01T\">HP 15s Core i3 10th Gen - (8 GB/1 TB HDD/256 GB SSD/Windows 10 Home) 15s-du1064TU Laptop</div><div class=\"gUuXy-\"><span class=\"_1lRcqv\" id=\"productRating_LSTCOMG22MXAZQSA2FV8D2FDN_COMG22MXAZQSA2FV_\"><div class=\"_3LWZlK\">4.3<img class=\"_1wB99o\" src=\"data:image/svg+xml;base64,PHN2ZyB4bWxucz0iaHR0cDovL3d3dy53My5vcmcvMjAwMC9zdmciIHdpZHRoPSIxMyIgaGVpZ2h0PSIxMiI+PHBhdGggZmlsbD0iI0ZGRiIgZD0iTTYuNSA5LjQzOWwtMy42NzQgMi4yMy45NC00LjI2LTMuMjEtMi44ODMgNC4yNTQtLjQwNEw2LjUuMTEybDEuNjkgNC4wMSA0LjI1NC40MDQtMy4yMSAyLjg4Mi45NCA0LjI2eiIvPjwvc3ZnPg==\"/></div></span><span class=\"_2_R_DZ\"><span><span>583 Ratings </span><span class=\"_13vcmD\">&amp;</span><span> 64 Reviews</span></span></span></div><div class=\"fMghEO\"><ul class=\"_1xgFaf\"><li class=\"rgWa7D\">Intel Core i3 Processor (10th Gen)</li><li class=\"rgWa7D\">8 GB DDR4 RAM</li><li class=\"rgWa7D\">64 bit Windows 10 Operating System</li><li class=\"rgWa7D\">1 TB HDD|256 GB SSD</li><li class=\"rgWa7D\">39.62 cm (15.6 inch) Display</li><li class=\"rgWa7D\">Microsoft Office Home &amp; Student 2019, HP Documentation, HP BIOS recovery, HP Smart</li><li class=\"rgWa7D\">1 Year Onsite Warranty</li></ul></div></div><div class=\"col col-5-12 nlI3QM\"><div class=\"_3tbKJL\"><div class=\"_25b18c\"><div class=\"_30jeq3 _1_WHN1\">₹43,790</div><div class=\"_3I9_wc _27UcVY\">₹<!-- -->44,908</div><div class=\"_3Ay6Sb\"><span>2% off</span></div></div></div><div class=\"_13J9qT\"><img height=\"21\" src=\"//static-assets-web.flixcart.com/www/linchpin/fk-cp-zion/img/fa_62673a.png\"/></div></div></div></a></div>,\n",
       " <div class=\"_2kHMtA\"><a class=\"_1fQZEK\" href=\"/hp-pavilion-core-i5-11th-gen-16-gb-512-gb-ssd-windows-10-home-14-dv0054tu-thin-light-laptop/p/itm36b7d040b7f87?pid=COMGY8RDNJX8FWGH&amp;lid=LSTCOMGY8RDNJX8FWGHNMQSO2&amp;marketplace=FLIPKART&amp;q=laptops&amp;store=6bo%2Fb5g&amp;srno=s_1_24&amp;otracker=search&amp;otracker1=search&amp;fm=organic&amp;iid=631d2635-01b3-432e-9e24-b79a6e5bc4e6.COMGY8RDNJX8FWGH.SEARCH&amp;ppt=None&amp;ppn=None&amp;ssid=6eo4z4mbm80000001625474453835&amp;qH=c06ea84a1e3dc3c6\" rel=\"noopener noreferrer\" target=\"_blank\"><div class=\"MIXNux\"><div class=\"_2QcLo-\"><div><div class=\"CXW8mj\" style=\"height:200px;width:200px\"><img alt=\"HP Pavilion Core i5 11th Gen - (16 GB/512 GB SSD/Windows 10 Home) 14-dv0054TU Thin and Light Laptop\" class=\"_396cs4 _3exPp9\" src=\"https://rukminim1.flixcart.com/image/312/312/kl9rssw0/computer/v/n/e/hp-original-imagyfmhb29hsg6g.jpeg?q=70\"/></div></div></div><div class=\"_3wLduG\"><div class=\"_3PzNI-\"><span class=\"f3A4_V\"><label class=\"_2iDkf8\"><input class=\"_30VH1S\" readonly=\"\" type=\"checkbox\"/><div class=\"_24_Dny\"></div></label></span><label class=\"_6Up2sF\"><span>Add to Compare</span></label></div></div><div class=\"_2hVSre _3nq8ih\"><div class=\"_36FSn5\"><svg class=\"_1l0elc\" height=\"16\" viewbox=\"0 0 20 16\" width=\"16\" xmlns=\"http://www.w3.org/2000/svg\"><path class=\"eX72wL\" d=\"M8.695 16.682C4.06 12.382 1 9.536 1 6.065 1 3.219 3.178 1 5.95 1c1.566 0 3.069.746 4.05 1.915C10.981 1.745 12.484 1 14.05 1 16.822 1 19 3.22 19 6.065c0 3.471-3.06 6.316-7.695 10.617L10 17.897l-1.305-1.215z\" fill=\"#2874F0\" fill-rule=\"evenodd\" opacity=\".9\" stroke=\"#FFF\"></path></svg></div></div></div><div class=\"_3pLy-c row\"><div class=\"col col-7-12\"><div class=\"_4rR01T\">HP Pavilion Core i5 11th Gen - (16 GB/512 GB SSD/Windows 10 Home) 14-dv0054TU Thin and Light Laptop</div><div class=\"gUuXy-\"><span class=\"_1lRcqv\" id=\"productRating_LSTCOMGY8RDNJX8FWGHNMQSO2_COMGY8RDNJX8FWGH_\"><div class=\"_3LWZlK\">4.6<img class=\"_1wB99o\" src=\"data:image/svg+xml;base64,PHN2ZyB4bWxucz0iaHR0cDovL3d3dy53My5vcmcvMjAwMC9zdmciIHdpZHRoPSIxMyIgaGVpZ2h0PSIxMiI+PHBhdGggZmlsbD0iI0ZGRiIgZD0iTTYuNSA5LjQzOWwtMy42NzQgMi4yMy45NC00LjI2LTMuMjEtMi44ODMgNC4yNTQtLjQwNEw2LjUuMTEybDEuNjkgNC4wMSA0LjI1NC40MDQtMy4yMSAyLjg4Mi45NCA0LjI2eiIvPjwvc3ZnPg==\"/></div></span><span class=\"_2_R_DZ\"><span><span>358 Ratings </span><span class=\"_13vcmD\">&amp;</span><span> 56 Reviews</span></span></span></div><div class=\"fMghEO\"><ul class=\"_1xgFaf\"><li class=\"rgWa7D\">Intel Core i5 Processor (11th Gen)</li><li class=\"rgWa7D\">16 GB DDR4 RAM</li><li class=\"rgWa7D\">64 bit Windows 10 Operating System</li><li class=\"rgWa7D\">512 GB SSD</li><li class=\"rgWa7D\">35.56 cm (14 inch) Display</li><li class=\"rgWa7D\">Microsoft Office Home and Student 2019, HP Documentation, HP Smart, HP BIOS Recovery, HP Support Assistant, Dropbox</li><li class=\"rgWa7D\">1 Year Onsite Warranty</li></ul></div></div><div class=\"col col-5-12 nlI3QM\"><div class=\"_3tbKJL\"><div class=\"_25b18c\"><div class=\"_30jeq3 _1_WHN1\">₹66,990</div><div class=\"_3I9_wc _27UcVY\">₹<!-- -->68,649</div><div class=\"_3Ay6Sb\"><span>2% off</span></div></div></div><div class=\"_13J9qT\"><img height=\"21\" src=\"//static-assets-web.flixcart.com/www/linchpin/fk-cp-zion/img/fa_62673a.png\"/></div><div class=\"_2ZdXDB\"><div class=\"_3xFhiH\"><div class=\"_2Tpdn3 _18hQoS\" style=\"color:#000000;font-size:12px;font-style:normal;font-weight:400\">No Cost EMI</div></div></div></div></div></a></div>]"
      ]
     },
     "metadata": {},
     "execution_count": 28
    }
   ],
   "source": [
    "desc"
   ]
  },
  {
   "cell_type": "code",
   "execution_count": 29,
   "metadata": {},
   "outputs": [
    {
     "output_type": "execute_result",
     "data": {
      "text/plain": [
       "['Add to CompareASUS TUF Gaming F15 Core i5 10th Gen - (8 GB/512 GB SSD/Windows 10 Home/4 GB Graphics/NVIDIA GeForce G...4.5227 Ratings\\xa0&\\xa027 ReviewsIntel Core i5 Processor (10th Gen)8 GB DDR4 RAM64 bit Windows 10 Operating System512 GB SSD39.62 cm (15.6 inch) DisplayNA1 Year Onsite Warranty₹60,990₹81,99025% offNo Cost EMI',\n",
       " 'Add to CompareHP 15s Ryzen 3 Dual Core 3250U - (8 GB/1 TB HDD/256 GB SSD/Windows 10 Home) 15s-GR0012AU Laptop4.41,038 Ratings\\xa0&\\xa0145 ReviewsAMD Ryzen 3 Dual Core Processor8 GB DDR4 RAM64 bit Windows 10 Operating System1 TB HDD|256 GB SSD39.62 cm (15.6 inch) DisplayMicrosoft Office Home and Student 2019, HP Documentation, HP SSRM, HP Smart, HP Support Assistant1 Year Onsite Warranty₹41,990₹44,4665% offNo Cost EMI',\n",
       " 'Add to CompareHP 15s Ryzen 3 Dual Core 3250U - (8 GB/1 TB HDD/Windows 10 Home) 15s-GR0011AU Thin and Light Laptop4.22,772 Ratings\\xa0&\\xa0348 ReviewsAMD Ryzen 3 Dual Core Processor8 GB DDR4 RAM64 bit Windows 10 Operating System1 TB HDD39.62 cm (15.6 inch) DisplayMicrosoft Office Home and Student 2019, HP Documentation, HP SSRM, HP Smart, HP Support Assistant1 Year Onsite Warranty₹36,490₹40,95710% offNo Cost EMI',\n",
       " 'Add to CompareLenovo Lenovo V Athlon Dual Core 3050U - (4 GB/1 TB HDD/Windows 10 Home) V-15 ADA Laptop3.727 Ratings\\xa0&\\xa01 ReviewsAMD Athlon Dual Core Processor4 GB DDR4 RAM64 bit Windows 10 Operating System1 TB HDD39.62 cm (15.6 inches) Display1 Year Onsite Warranty₹25,990₹33,00021% offNo Cost EMI',\n",
       " 'Add to CompareLenovo V Series Athlon Dual Core 3050U - (4 GB/1 TB HDD/Windows 10 Home) V-15 ADA Laptop4.54 Ratings\\xa0&\\xa00 ReviewsAMD Athlon Dual Core Processor4 GB DDR4 RAM64 bit Windows 10 Operating System1 TB HDD39.62 cm (15.6 Inch) DisplayMicrosoft Office (Trial Only)1 Year Carry-In Warranty₹25,990₹33,00021% offNo Cost EMI',\n",
       " 'Add to CompareHP Core i3 11th Gen - (8 GB/256 GB SSD/Windows 10 Home) 15s-FQ2075TU Thin and Light Laptop4.3126 Ratings\\xa0&\\xa012 ReviewsIntel Core i3 Processor (11th Gen)8 GB DDR4 RAM64 bit Windows 10 Operating System256 GB SSD39.62 cm (15.6 inch) DisplayMicrosoft Office Home & Student 2019, HP Documentation, HP CoolSense, HP SSRM, HP Smart1 Year Domestic Brand Warranty on Device₹40,990₹44,9088% offNo Cost EMI',\n",
       " 'Add to CompareHP 14s Core i3 11th Gen - (8 GB/256 GB SSD/Windows 10 Home) 14s- DY2501TU Thin and Light Laptop4.4585 Ratings\\xa0&\\xa064 ReviewsIntel Core i3 Processor (11th Gen)8 GB DDR4 RAM64 bit Windows 10 Operating System256 GB SSD35.56 cm (14 inch) DisplayHP Documentation, HP SSRM, HP Smart, Microsoft Office 2019, McAfeeLiveSafe 30 day trial, HP Support Assistant1 Year Onsite Warranty₹40,990₹45,89210% offNo Cost EMI',\n",
       " 'Add to CompareASUS vivobook Flip 14 Core i3 11th Gen - (8 GB/256 GB SSD/Windows 10 Home) TP470EA-EC301TS 2 in 1 Lapt...4.4136 Ratings\\xa0&\\xa029 ReviewsIntel Core i3 Processor (11th Gen)8 GB DDR4 RAM64 bit Windows 10 Operating System256 GB SSD35.56 cm (14 inch) Touchscreen DisplayMicrosoft Office Home and Student 2019, My Asus, Battery Health Charging, Fan mode, Splendid, Tru2Life, McAfee (30 Day Trial)1 Year Onsite Warranty₹46,990₹64,99027% offNo Cost EMI',\n",
       " 'Add to CompareAPPLE MacBook Air M1 - (8 GB/256 GB SSD/Mac OS Big Sur) MGN63HN/A4.7769 Ratings\\xa0&\\xa0112 ReviewsApple M1 Processor8 GB DDR4 RAMMac OS Operating System256 GB SSD33.78 cm (13.3 inch) DisplayBuilt-in Apps: iMovie, Siri, GarageBand, Pages, Numbers, Photos, Keynote, Safari, Mail, FaceTime, Messages, Maps, Stocks, Home, Voice Memos, Notes, Calendar, Contacts, Reminders, Photo Booth, Preview, Books, App Store, Time Machine, TV, Music, Podcasts, Find My, QuickTime Player1 Year Limited Warra\\xadnty₹92,900No Cost EMI',\n",
       " 'Add to Compareacer Aspire 7 Core i5 10th Gen - (8 GB/512 GB SSD/Windows 10 Home/4 GB Graphics/NVIDIA GeForce GTX 165...4.592 Ratings\\xa0&\\xa010 ReviewsIntel Core i5 Processor (10th Gen)8 GB DDR4 RAM64 bit Windows 10 Operating System512 GB SSD39.62 cm (15.6 inch) DisplayQuick Access, Acer Care Center, Acer Product Registration, Acer Collection1 Year International Travelers Warranty₹56,990₹89,99936% offNo Cost EMI',\n",
       " 'Add to CompareHP 14s Core i3 11th Gen - (8 GB/512 GB SSD/Windows 10 Home) 14s- DR2015TU Thin and Light Laptop4.4184 Ratings\\xa0&\\xa022 ReviewsIntel Core i3 Processor (11th Gen)8 GB DDR4 RAM64 bit Windows 10 Operating System512 GB SSD35.56 cm (14 inch) DisplayMicrosoft Office Home & Student 2019, HP Documentation, HP Smart, HP Support Assistant1 Year Onsite Warranty₹46,990₹51,0377% offNo Cost EMI',\n",
       " 'Add to CompareASUS VivoBook 15 Core i3 10th Gen - (8 GB/1 TB HDD/Windows 10 Home) X515JA-EJ322TS Thin and Light Lapt...4.11,329 Ratings\\xa0&\\xa0162 ReviewsIntel Core i3 Processor (10th Gen)8 GB DDR4 RAM64 bit Windows 10 Operating System1 TB HDD39.62 cm (15.6 inch) DisplayMicrosoft Office Home and Student 2019, Splendid, Tru2Life, My Asus1 Year Onsite Warranty₹38,990₹45,99015% offNo Cost EMI',\n",
       " 'Add to CompareDELL Vostro Core i3 10th Gen - (8 GB/1 TB HDD/Windows 10 Home) Vostro 3401 Thin and Light Laptop4714 Ratings\\xa0&\\xa075 ReviewsIntel Core i3 Processor (10th Gen)8 GB DDR4 RAM64 bit Windows 10 Operating System1 TB HDD35.56 cm (14 inch) DisplayMicrosoft Office Home and Student 20191 Year Onsite Warranty₹37,342No Cost EMI',\n",
       " 'Add to CompareHP 15s Core i3 11th Gen - (8 GB/1 TB HDD/Windows 10 Home) 15s-du3038TU Thin and Light Laptop4.1845 Ratings\\xa0&\\xa0108 ReviewsIntel Core i3 Processor (11th Gen)8 GB DDR4 RAM64 bit Windows 10 Operating System1 TB HDD39.62 cm (15.6 inch) DisplayHP Documentation, HP BIOS Recovery, HP Smart, Dropbox, HP Support Assistant, Microsoft Office Home and Student 20191 Year Onsite Warranty₹41,990₹46,80510% offNo Cost EMI',\n",
       " 'Add to CompareHP Pavilion Gaming Ryzen 5 Quad Core 3550H - (8 GB/512 GB SSD/Windows 10 Home/4 GB Graphics/NVIDIA GeF...4.41,516 Ratings\\xa0&\\xa0181 ReviewsAMD Ryzen 5 Quad Core Processor8 GB DDR4 RAM64 bit Windows 10 Operating System512 GB SSD39.62 cm (15.6 inch) Display1 Year Onsite Warranty₹56,990₹59,9905% offNo Cost EMI',\n",
       " 'Add to CompareLenovo Ideapad Gaming 3 Ryzen 5 Hexa Core 4600H - (8 GB/1 TB HDD/256 GB SSD/Windows 10 Home/4 GB Graph...4.3137 Ratings\\xa0&\\xa027 ReviewsAMD Ryzen 5 Hexa Core Processor8 GB DDR4 RAM64 bit Windows 10 Operating System1 TB HDD|256 GB SSD39.62 cm (15.6 inch) DisplayMicrosoft Office (Trial Only)1 Year Onsite Warranty₹62,990₹86,69027% offNo Cost EMI',\n",
       " 'Add to CompareHP Pavilion Gaming Ryzen 5 Quad Core 3550H - (8 GB/1 TB HDD/Windows 10 Home/4 GB Graphics/NVIDIA GeFor...4.212,394 Ratings\\xa0&\\xa01,683 ReviewsAMD Ryzen 5 Quad Core Processor8 GB DDR4 RAM64 bit Windows 10 Operating System1 TB HDD39.62 cm (15.6 inch) Display1 Year Onsite Warranty₹50,990₹56,1449% offNo Cost EMI',\n",
       " 'Add to CompareHP G Series Core i3 10th Gen - (4 GB/512 GB SSD/Windows 10 Home) 250 G8 Thin and Light Laptop4.326 Ratings\\xa0&\\xa01 ReviewsIntel Core i3 Processor (10th Gen)4 GB DDR4 RAM64 bit Windows 10 Operating System512 GB SSD39.62 cm (15.6 inch) DisplayHP Support Assistant, Native Miracast Support, HP AudioSwitch, HP Documentation, HP Setup Integrated, OOBE, HP SSRM, HP Jumpstart, McAfee LiveSafe (30 Day Trial), Xerox DocuShare (30 Day Trial)1 Year Onsite Warranty₹38,990₹44,07211% offNo Cost EMI',\n",
       " 'Add to CompareASUS Core i3 10th Gen - (4 GB/512 GB SSD/Windows 10 Home) X413JA-EK267T||X413JA-EB302T Thin and Light ...4.31,912 Ratings\\xa0&\\xa0290 ReviewsIntel Core i3 Processor (10th Gen)4 GB DDR4 RAM64 bit Windows 10 Operating System512 GB SSD35.56 cm (14 inch) DisplayMy Asus, Splendid, Tru2Life1 Year Onsite Warranty₹38,990₹49,99022% offNo Cost EMI',\n",
       " 'Add to CompareASUS Vivobook Gaming Core i5 9th Gen - (8 GB/512 GB SSD/Windows 10 Home/4 GB Graphics/NVIDIA GeForce G...4.3319 Ratings\\xa0&\\xa056 ReviewsIntel Core i5 Processor (9th Gen)8 GB DDR4 RAM64 bit Windows 10 Operating System512 GB SSD39.62 cm (15.6 inch) DisplayMicrosoft Office Home and Student 2019, Splendid (All Models), Tru2Life (Intel Platform Models), Link to MyASUS (All Models, Bluetooth Needed)1 Year Onsite Warranty₹54,990₹76,99028% offNo Cost EMI',\n",
       " 'Add to CompareLenovo IdeaPad Core i3 11th Gen - (8 GB/256 GB SSD/Windows 10 Home) IdeaPad 3 14ITL6 Thin and Light La...53 Ratings\\xa0&\\xa01 ReviewsIntel Core i3 Processor (11th Gen)8 GB DDR4 RAM64 bit Windows 10 Operating System256 GB SSD35.56 cm (14 Inch) DisplayMicrosoft Office Home and Student 20191 Year Onsite Warranty₹43,990₹58,89025% offNo Cost EMI',\n",
       " 'Add to CompareHP 15s Athlon Dual Core - (4 GB/1 TB HDD/Windows 10 Home) 15s-GY0001AU Thin and Light Laptop3.9895 Ratings\\xa0&\\xa0111 ReviewsAMD Athlon Dual Core Processor4 GB DDR4 RAM64 bit Windows 10 Operating System1 TB HDD39.62 cm (15.6 inch) DisplayMicrosoft Office Home & Student 2019, HP Documentation, HP Smart, HP Support Assistant1 Year Onsite Warranty₹27,490₹28,4203% offNo Cost EMI',\n",
       " 'Add to CompareHP 15s Core i3 10th Gen - (8 GB/1 TB HDD/256 GB SSD/Windows 10 Home) 15s-du1064TU Laptop4.3583 Ratings\\xa0&\\xa064 ReviewsIntel Core i3 Processor (10th Gen)8 GB DDR4 RAM64 bit Windows 10 Operating System1 TB HDD|256 GB SSD39.62 cm (15.6 inch) DisplayMicrosoft Office Home & Student 2019, HP Documentation, HP BIOS recovery, HP Smart1 Year Onsite Warranty₹43,790₹44,9082% off',\n",
       " 'Add to CompareHP Pavilion Core i5 11th Gen - (16 GB/512 GB SSD/Windows 10 Home) 14-dv0054TU Thin and Light Laptop4.6358 Ratings\\xa0&\\xa056 ReviewsIntel Core i5 Processor (11th Gen)16 GB DDR4 RAM64 bit Windows 10 Operating System512 GB SSD35.56 cm (14 inch) DisplayMicrosoft Office Home and Student 2019, HP Documentation, HP Smart, HP BIOS Recovery, HP Support Assistant, Dropbox1 Year Onsite Warranty₹66,990₹68,6492% offNo Cost EMI']"
      ]
     },
     "metadata": {},
     "execution_count": 29
    }
   ],
   "source": [
    "descriptions"
   ]
  },
  {
   "cell_type": "code",
   "execution_count": 31,
   "metadata": {
    "colab": {},
    "colab_type": "code",
    "id": "u9UaYFrb5nsG"
   },
   "outputs": [],
   "source": [
    "commonclass = soup.find_all('li',class_='rgWa7D') # We observe that the classnames for the different specifications are under one div.So we need to apply some method to extract the different features.\n",
    " \n",
    "# Create empty lists for the features\n",
    "processors=[]\n",
    "ram=[]\n",
    "os=[]\n",
    "storage=[]\n",
    "inches=[]\n",
    "warranty=[]\n",
    "\n",
    "for i in range(0,len(commonclass)):\n",
    "    p=commonclass[i].text # Extracting the text from the tags\n",
    "    if(\"Core\" in p): \n",
    "        processors.append(p)\n",
    "    elif(\"RAM\" in p): # If RAM is present in the text then append it to the ram list. Similarly do this for the other features as well\n",
    "        ram.append(p)\n",
    "    elif(\"HDD\" in p or \"SSD\" in p):\n",
    "        storage.append(p)\n",
    "    elif(\"Operating\" in p):\n",
    "        os.append(p)\n",
    "    elif(\"Display\" in p):\n",
    "        inches.append(p)\n",
    "    elif(\"Warranty\" in p):\n",
    "        warranty.append(p)"
   ]
  },
  {
   "cell_type": "code",
   "execution_count": 32,
   "metadata": {
    "colab": {
     "base_uri": "https://localhost:8080/",
     "height": 102
    },
    "colab_type": "code",
    "id": "pHgPFLjj51-Z",
    "outputId": "6f5cbd89-ad8f-460b-f3fb-546e2828737a"
   },
   "outputs": [
    {
     "output_type": "stream",
     "name": "stdout",
     "text": [
      "23\n23\n24\n24\n24\n"
     ]
    }
   ],
   "source": [
    "print(len(processors))\n",
    "print(len(warranty))\n",
    "print(len(os))\n",
    "print(len(ram))\n",
    "print(len(inches)) # We observe that the length of all the features is same which is 24"
   ]
  },
  {
   "cell_type": "code",
   "execution_count": 34,
   "metadata": {
    "colab": {
     "base_uri": "https://localhost:8080/",
     "height": 34
    },
    "colab_type": "code",
    "id": "k3BWWyuu52rV",
    "outputId": "05a79687-36b4-48d1-e863-b44f4e6d2d38"
   },
   "outputs": [
    {
     "output_type": "execute_result",
     "data": {
      "text/plain": [
       "24"
      ]
     },
     "metadata": {},
     "execution_count": 34
    }
   ],
   "source": [
    "price = soup.find_all('div',class_='_30jeq3 _1_WHN1') # Extracting price of each laptop from the website\n",
    "prices = []\n",
    "for i in range(len(price)):\n",
    "    prices.append(price[i].text)\n",
    "prices\n",
    "len(prices)"
   ]
  },
  {
   "cell_type": "code",
   "execution_count": 35,
   "metadata": {},
   "outputs": [
    {
     "output_type": "execute_result",
     "data": {
      "text/plain": [
       "['₹60,990',\n",
       " '₹41,990',\n",
       " '₹36,490',\n",
       " '₹25,990',\n",
       " '₹25,990',\n",
       " '₹40,990',\n",
       " '₹40,990',\n",
       " '₹46,990',\n",
       " '₹92,900',\n",
       " '₹56,990',\n",
       " '₹46,990',\n",
       " '₹38,990',\n",
       " '₹37,342',\n",
       " '₹41,990',\n",
       " '₹56,990',\n",
       " '₹62,990',\n",
       " '₹50,990',\n",
       " '₹38,990',\n",
       " '₹38,990',\n",
       " '₹54,990',\n",
       " '₹43,990',\n",
       " '₹27,490',\n",
       " '₹43,790',\n",
       " '₹66,990']"
      ]
     },
     "metadata": {},
     "execution_count": 35
    }
   ],
   "source": [
    "prices"
   ]
  },
  {
   "cell_type": "code",
   "execution_count": 37,
   "metadata": {
    "colab": {
     "base_uri": "https://localhost:8080/",
     "height": 34
    },
    "colab_type": "code",
    "id": "MJPHah8J6Iuh",
    "outputId": "808c74c0-db39-4ea3-d6fe-a78ecd9a0528"
   },
   "outputs": [
    {
     "output_type": "execute_result",
     "data": {
      "text/plain": [
       "24"
      ]
     },
     "metadata": {},
     "execution_count": 37
    }
   ],
   "source": [
    "original_price = soup.find_all('div',class_='_30jeq3 _1_WHN1')\n",
    "len(original_price) "
   ]
  },
  {
   "cell_type": "code",
   "execution_count": 38,
   "metadata": {
    "colab": {
     "base_uri": "https://localhost:8080/",
     "height": 34
    },
    "colab_type": "code",
    "id": "FvKyKxT76OgC",
    "outputId": "d025a585-ee8f-4490-f332-4b1cfb80d845"
   },
   "outputs": [
    {
     "output_type": "execute_result",
     "data": {
      "text/plain": [
       "24"
      ]
     },
     "metadata": {},
     "execution_count": 38
    }
   ],
   "source": [
    "original_prices = []\n",
    "for i in range(len(original_price)):\n",
    "    original_prices.append(original_price[i].text)\n",
    "original_prices\n",
    "len(original_prices) # Here we get 22 since there is no original price listed for 2 laptops-this means that there is actually no discount on the laptop and the original price is same as the discounted price"
   ]
  },
  {
   "cell_type": "code",
   "execution_count": 39,
   "metadata": {
    "colab": {
     "base_uri": "https://localhost:8080/",
     "height": 34
    },
    "colab_type": "code",
    "id": "4Ne0w-2V6ZVf",
    "outputId": "e43dc56c-8ee5-466c-b961-36a3723a73d3"
   },
   "outputs": [
    {
     "output_type": "execute_result",
     "data": {
      "text/plain": [
       "39"
      ]
     },
     "metadata": {},
     "execution_count": 39
    }
   ],
   "source": [
    "rating = soup.find_all('div',class_='_3LWZlK') # Extracting the ratings of all the laptops\n",
    "ratings = []\n",
    "for i in range(len(rating)):\n",
    "    ratings.append(rating[i].text)\n",
    "ratings\n",
    "len(ratings) # We observe that the classname for the recommended laptops is also same as the present laptops so that's why it is extracting the ratings of recommned laptops as well\n",
    "# This is increasing the number of ratings"
   ]
  },
  {
   "cell_type": "code",
   "execution_count": 21,
   "metadata": {
    "colab": {
     "base_uri": "https://localhost:8080/",
     "height": 646
    },
    "colab_type": "code",
    "id": "ghgmtL4x_wja",
    "outputId": "1005122d-8913-42e9-8d31-af586b046bae"
   },
   "outputs": [
    {
     "data": {
      "text/plain": [
       "['4.5',\n",
       " '4.4',\n",
       " '4.2',\n",
       " '4.5',\n",
       " '4.3',\n",
       " '4.4',\n",
       " '4.5',\n",
       " '4.3',\n",
       " '4.4',\n",
       " '4.4',\n",
       " '4.4',\n",
       " '4.9',\n",
       " '4.4',\n",
       " '4.3',\n",
       " '4.4',\n",
       " '4.4',\n",
       " '4.2',\n",
       " '4.4',\n",
       " '4.8',\n",
       " '3.9',\n",
       " '4.5',\n",
       " '4.4',\n",
       " '4.3',\n",
       " '4.3',\n",
       " '5',\n",
       " '4',\n",
       " '4.5',\n",
       " '5',\n",
       " '4',\n",
       " '4.4',\n",
       " '5',\n",
       " '1',\n",
       " '4.3',\n",
       " '5',\n",
       " '5',\n",
       " '4.5',\n",
       " '4',\n",
       " '5']"
      ]
     },
     "execution_count": 21,
     "metadata": {},
     "output_type": "execute_result"
    }
   ],
   "source": [
    "ratings"
   ]
  },
  {
   "cell_type": "code",
   "execution_count": 40,
   "metadata": {
    "colab": {
     "base_uri": "https://localhost:8080/",
     "height": 1000
    },
    "colab_type": "code",
    "id": "uF8PUxL56qUK",
    "outputId": "d270a174-3dae-4525-e88d-33d46bd75aac"
   },
   "outputs": [
    {
     "output_type": "execute_result",
     "data": {
      "text/plain": [
       "jUuMTEybDEuNjkgNC4wMSA0LjI1NC40MDQtMy4yMSAyLjg4Mi45NCA0LjI2eiIvPjwvc3ZnPg==\"/></div></span>,\n",
       " <span class=\"_2_R_DZ\"><span><span>585 Ratings </span><span class=\"_13vcmD\">&amp;</span><span> 64 Reviews</span></span></span>,\n",
       " <span><span>585 Ratings </span><span class=\"_13vcmD\">&amp;</span><span> 64 Reviews</span></span>,\n",
       " <span>585 Ratings </span>,\n",
       " <span class=\"_13vcmD\">&amp;</span>,\n",
       " <span> 64 Reviews</span>,\n",
       " <span>10% off</span>,\n",
       " <span class=\"f3A4_V\"><label class=\"_2iDkf8\"><input class=\"_30VH1S\" readonly=\"\" type=\"checkbox\"/><div class=\"_24_Dny\"></div></label></span>,\n",
       " <span>Add to Compare</span>,\n",
       " <span class=\"_1lRcqv\" id=\"productRating_LSTCOMG2ACZJUHHEXFPLCDOXA_COMG2ACZJUHHEXFP_\"><div class=\"_3LWZlK\">4.4<img class=\"_1wB99o\" src=\"data:image/svg+xml;base64,PHN2ZyB4bWxucz0iaHR0cDovL3d3dy53My5vcmcvMjAwMC9zdmciIHdpZHRoPSIxMyIgaGVpZ2h0PSIxMiI+PHBhdGggZmlsbD0iI0ZGRiIgZD0iTTYuNSA5LjQzOWwtMy42NzQgMi4yMy45NC00LjI2LTMuMjEtMi44ODMgNC4yNTQtLjQwNEw2LjUuMTEybDEuNjkgNC4wMSA0LjI1NC40MDQtMy4yMSAyLjg4Mi45NCA0LjI2eiIvPjwvc3ZnPg==\"/></div></span>,\n",
       " <span class=\"_2_R_DZ\"><span><span>136 Ratings </span><span class=\"_13vcmD\">&amp;</span><span> 29 Reviews</span></span></span>,\n",
       " <span><span>136 Ratings </span><span class=\"_13vcmD\">&amp;</span><span> 29 Reviews</span></span>,\n",
       " <span>136 Ratings </span>,\n",
       " <span class=\"_13vcmD\">&amp;</span>,\n",
       " <span> 29 Reviews</span>,\n",
       " <span>27% off</span>,\n",
       " <span class=\"f3A4_V\"><label class=\"_2iDkf8\"><input class=\"_30VH1S\" readonly=\"\" type=\"checkbox\"/><div class=\"_24_Dny\"></div></label></span>,\n",
       " <span>Add to Compare</span>,\n",
       " <span class=\"_1lRcqv\" id=\"productRating_LSTCOMFXEKMGNHZYFH9EOWT4E_COMFXEKMGNHZYFH9_\"><div class=\"_3LWZlK\">4.7<img class=\"_1wB99o\" src=\"data:image/svg+xml;base64,PHN2ZyB4bWxucz0iaHR0cDovL3d3dy53My5vcmcvMjAwMC9zdmciIHdpZHRoPSIxMyIgaGVpZ2h0PSIxMiI+PHBhdGggZmlsbD0iI0ZGRiIgZD0iTTYuNSA5LjQzOWwtMy42NzQgMi4yMy45NC00LjI2LTMuMjEtMi44ODMgNC4yNTQtLjQwNEw2LjUuMTEybDEuNjkgNC4wMSA0LjI1NC40MDQtMy4yMSAyLjg4Mi45NCA0LjI2eiIvPjwvc3ZnPg==\"/></div></span>,\n",
       " <span class=\"_2_R_DZ\"><span><span>769 Ratings </span><span class=\"_13vcmD\">&amp;</span><span> 112 Reviews</span></span></span>,\n",
       " <span><span>769 Ratings </span><span class=\"_13vcmD\">&amp;</span><span> 112 Reviews</span></span>,\n",
       " <span>769 Ratings </span>,\n",
       " <span class=\"_13vcmD\">&amp;</span>,\n",
       " <span> 112 Reviews</span>,\n",
       " <span class=\"f3A4_V\"><label class=\"_2iDkf8\"><input class=\"_30VH1S\" readonly=\"\" type=\"checkbox\"/><div class=\"_24_Dny\"></div></label></span>,\n",
       " <span>Add to Compare</span>,\n",
       " <span class=\"_1lRcqv\" id=\"productRating_LSTCOMG2KBG2K4GFFF78YBPHO_COMG2KBG2K4GFFF7_\"><div class=\"_3LWZlK\">4.5<img class=\"_1wB99o\" src=\"data:image/svg+xml;base64,PHN2ZyB4bWxucz0iaHR0cDovL3d3dy53My5vcmcvMjAwMC9zdmciIHdpZHRoPSIxMyIgaGVpZ2h0PSIxMiI+PHBhdGggZmlsbD0iI0ZGRiIgZD0iTTYuNSA5LjQzOWwtMy42NzQgMi4yMy45NC00LjI2LTMuMjEtMi44ODMgNC4yNTQtLjQwNEw2LjUuMTEybDEuNjkgNC4wMSA0LjI1NC40MDQtMy4yMSAyLjg4Mi45NCA0LjI2eiIvPjwvc3ZnPg==\"/></div></span>,\n",
       " <span class=\"_2_R_DZ\"><span><span>92 Ratings </span><span class=\"_13vcmD\">&amp;</span><span> 10 Reviews</span></span></span>,\n",
       " <span><span>92 Ratings </span><span class=\"_13vcmD\">&amp;</span><span> 10 Reviews</span></span>,\n",
       " <span>92 Ratings </span>,\n",
       " <span class=\"_13vcmD\">&amp;</span>,\n",
       " <span> 10 Reviews</span>,\n",
       " <span>36% off</span>,\n",
       " <span class=\"f3A4_V\"><label class=\"_2iDkf8\"><input class=\"_30VH1S\" readonly=\"\" type=\"checkbox\"/><div class=\"_24_Dny\"></div></label></span>,\n",
       " <span>Add to Compare</span>,\n",
       " <span class=\"_1lRcqv\" id=\"productRating_LSTCOMG2HKGZ8XJG9WACGEGGV_COMG2HKGZ8XJG9WA_\"><div class=\"_3LWZlK\">4.4<img class=\"_1wB99o\" src=\"data:image/svg+xml;base64,PHN2ZyB4bWxucz0iaHR0cDovL3d3dy53My5vcmcvMjAwMC9zdmciIHdpZHRoPSIxMyIgaGVpZ2h0PSIxMiI+PHBhdGggZmlsbD0iI0ZGRiIgZD0iTTYuNSA5LjQzOWwtMy42NzQgMi4yMy45NC00LjI2LTMuMjEtMi44ODMgNC4yNTQtLjQwNEw2LjUuMTEybDEuNjkgNC4wMSA0LjI1NC40MDQtMy4yMSAyLjg4Mi45NCA0LjI2eiIvPjwvc3ZnPg==\"/></div></span>,\n",
       " <span class=\"_2_R_DZ\"><span><span>184 Ratings </span><span class=\"_13vcmD\">&amp;</span><span> 22 Reviews</span></span></span>,\n",
       " <span><span>184 Ratings </span><span class=\"_13vcmD\">&amp;</span><span> 22 Reviews</span></span>,\n",
       " <span>184 Ratings </span>,\n",
       " <span class=\"_13vcmD\">&amp;</span>,\n",
       " <span> 22 Reviews</span>,\n",
       " <span>7% off</span>,\n",
       " <span class=\"f3A4_V\"><label class=\"_2iDkf8\"><input class=\"_30VH1S\" readonly=\"\" type=\"checkbox\"/><div class=\"_24_Dny\"></div></label></span>,\n",
       " <span>Add to Compare</span>,\n",
       " <span class=\"_1lRcqv\" id=\"productRating_LSTCOMFZ53SSJQYYVTYERZCP9_COMFZ53SSJQYYVTY_\"><div class=\"_3LWZlK\">4.1<img class=\"_1wB99o\" src=\"data:image/svg+xml;base64,PHN2ZyB4bWxucz0iaHR0cDovL3d3dy53My5vcmcvMjAwMC9zdmciIHdpZHRoPSIxMyIgaGVpZ2h0PSIxMiI+PHBhdGggZmlsbD0iI0ZGRiIgZD0iTTYuNSA5LjQzOWwtMy42NzQgMi4yMy45NC00LjI2LTMuMjEtMi44ODMgNC4yNTQtLjQwNEw2LjUuMTEybDEuNjkgNC4wMSA0LjI1NC40MDQtMy4yMSAyLjg4Mi45NCA0LjI2eiIvPjwvc3ZnPg==\"/></div></span>,\n",
       " <span class=\"_2_R_DZ\"><span><span>1,329 Ratings </span><span class=\"_13vcmD\">&amp;</span><span> 162 Reviews</span></span></span>,\n",
       " <span><span>1,329 Ratings </span><span class=\"_13vcmD\">&amp;</span><span> 162 Reviews</span></span>,\n",
       " <span>1,329 Ratings </span>,\n",
       " <span class=\"_13vcmD\">&amp;</span>,\n",
       " <span> 162 Reviews</span>,\n",
       " <span>15% off</span>,\n",
       " <span class=\"f3A4_V\"><label class=\"_2iDkf8\"><input class=\"_30VH1S\" readonly=\"\" type=\"checkbox\"/><div class=\"_24_Dny\"></div></label></span>,\n",
       " <span>Add to Compare</span>,\n",
       " <span class=\"_1lRcqv\" id=\"productRating_LSTCOMFYZC5Y4GZYEWNAE8BRJ_COMFYZC5Y4GZYEWN_\"><div class=\"_3LWZlK\">4<img class=\"_1wB99o\" src=\"data:image/svg+xml;base64,PHN2ZyB4bWxucz0iaHR0cDovL3d3dy53My5vcmcvMjAwMC9zdmciIHdpZHRoPSIxMyIgaGVpZ2h0PSIxMiI+PHBhdGggZmlsbD0iI0ZGRiIgZD0iTTYuNSA5LjQzOWwtMy42NzQgMi4yMy45NC00LjI2LTMuMjEtMi44ODMgNC4yNTQtLjQwNEw2LjUuMTEybDEuNjkgNC4wMSA0LjI1NC40MDQtMy4yMSAyLjg4Mi45NCA0LjI2eiIvPjwvc3ZnPg==\"/></div></span>,\n",
       " <span class=\"_2_R_DZ\"><span><span>714 Ratings </span><span class=\"_13vcmD\">&amp;</span><span> 75 Reviews</span></span></span>,\n",
       " <span><span>714 Ratings </span><span class=\"_13vcmD\">&amp;</span><span> 75 Reviews</span></span>,\n",
       " <span>714 Ratings </span>,\n",
       " <span class=\"_13vcmD\">&amp;</span>,\n",
       " <span> 75 Reviews</span>,\n",
       " <span class=\"f3A4_V\"><label class=\"_2iDkf8\"><input class=\"_30VH1S\" readonly=\"\" type=\"checkbox\"/><div class=\"_24_Dny\"></div></label></span>,\n",
       " <span>Add to Compare</span>,\n",
       " <span class=\"_1lRcqv\" id=\"productRating_LSTCOMFZ4TUFA33AC7YITRAGB_COMFZ4TUFA33AC7Y_\"><div class=\"_3LWZlK\">4.1<img class=\"_1wB99o\" src=\"data:image/svg+xml;base64,PHN2ZyB4bWxucz0iaHR0cDovL3d3dy53My5vcmcvMjAwMC9zdmciIHdpZHRoPSIxMyIgaGVpZ2h0PSIxMiI+PHBhdGggZmlsbD0iI0ZGRiIgZD0iTTYuNSA5LjQzOWwtMy42NzQgMi4yMy45NC00LjI2LTMuMjEtMi44ODMgNC4yNTQtLjQwNEw2LjUuMTEybDEuNjkgNC4wMSA0LjI1NC40MDQtMy4yMSAyLjg4Mi45NCA0LjI2eiIvPjwvc3ZnPg==\"/></div></span>,\n",
       " <span class=\"_2_R_DZ\"><span><span>845 Ratings </span><span class=\"_13vcmD\">&amp;</span><span> 108 Reviews</span></span></span>,\n",
       " <span><span>845 Ratings </span><span class=\"_13vcmD\">&amp;</span><span> 108 Reviews</span></span>,\n",
       " <span>845 Ratings </span>,\n",
       " <span class=\"_13vcmD\">&amp;</span>,\n",
       " <span> 108 Reviews</span>,\n",
       " <span>10% off</span>,\n",
       " <span class=\"f3A4_V\"><label class=\"_2iDkf8\"><input class=\"_30VH1S\" readonly=\"\" type=\"checkbox\"/><div class=\"_24_Dny\"></div></label></span>,\n",
       " <span>Add to Compare</span>,\n",
       " <span class=\"_1lRcqv\" id=\"productRating_LSTCOMFSFNVHASSGMGQKLIXSJ_COMFSFNVHASSGMGQ_\"><div class=\"_3LWZlK\">4.4<img class=\"_1wB99o\" src=\"data:image/svg+xml;base64,PHN2ZyB4bWxucz0iaHR0cDovL3d3dy53My5vcmcvMjAwMC9zdmciIHdpZHRoPSIxMyIgaGVpZ2h0PSIxMiI+PHBhdGggZmlsbD0iI0ZGRiIgZD0iTTYuNSA5LjQzOWwtMy42NzQgMi4yMy45NC00LjI2LTMuMjEtMi44ODMgNC4yNTQtLjQwNEw2LjUuMTEybDEuNjkgNC4wMSA0LjI1NC40MDQtMy4yMSAyLjg4Mi45NCA0LjI2eiIvPjwvc3ZnPg==\"/></div></span>,\n",
       " <span class=\"_2_R_DZ\"><span><span>1,516 Ratings </span><span class=\"_13vcmD\">&amp;</span><span> 181 Reviews</span></span></span>,\n",
       " <span><span>1,516 Ratings </span><span class=\"_13vcmD\">&amp;</span><span> 181 Reviews</span></span>,\n",
       " <span>1,516 Ratings </span>,\n",
       " <span class=\"_13vcmD\">&amp;</span>,\n",
       " <span> 181 Reviews</span>,\n",
       " <span>5% off</span>,\n",
       " <span class=\"f3A4_V\"><label class=\"_2iDkf8\"><input class=\"_30VH1S\" readonly=\"\" type=\"checkbox\"/><div class=\"_24_Dny\"></div></label></span>,\n",
       " <span>Add to Compare</span>,\n",
       " <span class=\"_1lRcqv\" id=\"productRating_LSTCOMG36BSYCJQMNSWZFTKI7_COMG36BSYCJQMNSW_\"><div class=\"_3LWZlK\">4.3<img class=\"_1wB99o\" src=\"data:image/svg+xml;base64,PHN2ZyB4bWxucz0iaHR0cDovL3d3dy53My5vcmcvMjAwMC9zdmciIHdpZHRoPSIxMyIgaGVpZ2h0PSIxMiI+PHBhdGggZmlsbD0iI0ZGRiIgZD0iTTYuNSA5LjQzOWwtMy42NzQgMi4yMy45NC00LjI2LTMuMjEtMi44ODMgNC4yNTQtLjQwNEw2LjUuMTEybDEuNjkgNC4wMSA0LjI1NC40MDQtMy4yMSAyLjg4Mi45NCA0LjI2eiIvPjwvc3ZnPg==\"/></div></span>,\n",
       " <span class=\"_2_R_DZ\"><span><span>137 Ratings </span><span class=\"_13vcmD\">&amp;</span><span> 27 Reviews</span></span></span>,\n",
       " <span><span>137 Ratings </span><span class=\"_13vcmD\">&amp;</span><span> 27 Reviews</span></span>,\n",
       " <span>137 Ratings </span>,\n",
       " <span class=\"_13vcmD\">&amp;</span>,\n",
       " <span> 27 Reviews</span>,\n",
       " <span>27% off</span>,\n",
       " <span class=\"f3A4_V\"><label class=\"_2iDkf8\"><input class=\"_30VH1S\" readonly=\"\" type=\"checkbox\"/><div class=\"_24_Dny\"></div></label></span>,\n",
       " <span>Add to Compare</span>,\n",
       " <span class=\"_1lRcqv\" id=\"productRating_LSTCOMFSFNVDXG74QXRY8FRH2_COMFSFNVDXG74QXR_\"><div class=\"_3LWZlK\">4.2<img class=\"_1wB99o\" src=\"data:image/svg+xml;base64,PHN2ZyB4bWxucz0iaHR0cDovL3d3dy53My5vcmcvMjAwMC9zdmciIHdpZHRoPSIxMyIgaGVpZ2h0PSIxMiI+PHBhdGggZmlsbD0iI0ZGRiIgZD0iTTYuNSA5LjQzOWwtMy42NzQgMi4yMy45NC00LjI2LTMuMjEtMi44ODMgNC4yNTQtLjQwNEw2LjUuMTEybDEuNjkgNC4wMSA0LjI1NC40MDQtMy4yMSAyLjg4Mi45NCA0LjI2eiIvPjwvc3ZnPg==\"/></div></span>,\n",
       " <span class=\"_2_R_DZ\"><span><span>12,394 Ratings </span><span class=\"_13vcmD\">&amp;</span><span> 1,683 Reviews</span></span></span>,\n",
       " <span><span>12,394 Ratings </span><span class=\"_13vcmD\">&amp;</span><span> 1,683 Reviews</span></span>,\n",
       " <span>12,394 Ratings </span>,\n",
       " <span class=\"_13vcmD\">&amp;</span>,\n",
       " <span> 1,683 Reviews</span>,\n",
       " <span>9% off</span>,\n",
       " <span class=\"f3A4_V\"><label class=\"_2iDkf8\"><input class=\"_30VH1S\" readonly=\"\" type=\"checkbox\"/><div class=\"_24_Dny\"></div></label></span>,\n",
       " <span>Add to Compare</span>,\n",
       " <span class=\"_1lRcqv\" id=\"productRating_LSTCOMG2ZZZ57RSWQUGAQGLJM_COMG2ZZZ57RSWQUG_\"><div class=\"_3LWZlK\">4.3<img class=\"_1wB99o\" src=\"data:image/svg+xml;base64,PHN2ZyB4bWxucz0iaHR0cDovL3d3dy53My5vcmcvMjAwMC9zdmciIHdpZHRoPSIxMyIgaGVpZ2h0PSIxMiI+PHBhdGggZmlsbD0iI0ZGRiIgZD0iTTYuNSA5LjQzOWwtMy42NzQgMi4yMy45NC00LjI2LTMuMjEtMi44ODMgNC4yNTQtLjQwNEw2LjUuMTEybDEuNjkgNC4wMSA0LjI1NC40MDQtMy4yMSAyLjg4Mi45NCA0LjI2eiIvPjwvc3ZnPg==\"/></div></span>,\n",
       " <span class=\"_2_R_DZ\"><span><span>26 Ratings </span><span class=\"_13vcmD\">&amp;</span><span> 1 Reviews</span></span></span>,\n",
       " <span><span>26 Ratings </span><span class=\"_13vcmD\">&amp;</span><span> 1 Reviews</span></span>,\n",
       " <span>26 Ratings </span>,\n",
       " <span class=\"_13vcmD\">&amp;</span>,\n",
       " <span> 1 Reviews</span>,\n",
       " <span>11% off</span>,\n",
       " <span class=\"f3A4_V\"><label class=\"_2iDkf8\"><input class=\"_30VH1S\" readonly=\"\" type=\"checkbox\"/><div class=\"_24_Dny\"></div></label></span>,\n",
       " <span>Add to Compare</span>,\n",
       " <span class=\"_1lRcqv\" id=\"productRating_LSTCOMFTWZD9Z8VVABBA4VHKD_COMFTWZD9Z8VVABB_\"><div class=\"_3LWZlK\">4.3<img class=\"_1wB99o\" src=\"data:image/svg+xml;base64,PHN2ZyB4bWxucz0iaHR0cDovL3d3dy53My5vcmcvMjAwMC9zdmciIHdpZHRoPSIxMyIgaGVpZ2h0PSIxMiI+PHBhdGggZmlsbD0iI0ZGRiIgZD0iTTYuNSA5LjQzOWwtMy42NzQgMi4yMy45NC00LjI2LTMuMjEtMi44ODMgNC4yNTQtLjQwNEw2LjUuMTEybDEuNjkgNC4wMSA0LjI1NC40MDQtMy4yMSAyLjg4Mi45NCA0LjI2eiIvPjwvc3ZnPg==\"/></div></span>,\n",
       " <span class=\"_2_R_DZ\"><span><span>1,912 Ratings </span><span class=\"_13vcmD\">&amp;</span><span> 290 Reviews</span></span></span>,\n",
       " <span><span>1,912 Ratings </span><span class=\"_13vcmD\">&amp;</span><span> 290 Reviews</span></span>,\n",
       " <span>1,912 Ratings </span>,\n",
       " <span class=\"_13vcmD\">&amp;</span>,\n",
       " <span> 290 Reviews</span>,\n",
       " <span>22% off</span>,\n",
       " <span class=\"f3A4_V\"><label class=\"_2iDkf8\"><input class=\"_30VH1S\" readonly=\"\" type=\"checkbox\"/><div class=\"_24_Dny\"></div></label></span>,\n",
       " <span>Add to Compare</span>,\n",
       " <span class=\"_1lRcqv\" id=\"productRating_LSTCOMG26W4WKY8GUARCMASBH_COMG26W4WKY8GUAR_\"><div class=\"_3LWZlK\">4.3<img class=\"_1wB99o\" src=\"data:image/svg+xml;base64,PHN2ZyB4bWxucz0iaHR0cDovL3d3dy53My5vcmcvMjAwMC9zdmciIHdpZHRoPSIxMyIgaGVpZ2h0PSIxMiI+PHBhdGggZmlsbD0iI0ZGRiIgZD0iTTYuNSA5LjQzOWwtMy42NzQgMi4yMy45NC00LjI2LTMuMjEtMi44ODMgNC4yNTQtLjQwNEw2LjUuMTEybDEuNjkgNC4wMSA0LjI1NC40MDQtMy4yMSAyLjg4Mi45NCA0LjI2eiIvPjwvc3ZnPg==\"/></div></span>,\n",
       " <span class=\"_2_R_DZ\"><span><span>319 Ratings </span><span class=\"_13vcmD\">&amp;</span><span> 56 Reviews</span></span></span>,\n",
       " <span><span>319 Ratings </span><span class=\"_13vcmD\">&amp;</span><span> 56 Reviews</span></span>,\n",
       " <span>319 Ratings </span>,\n",
       " <span class=\"_13vcmD\">&amp;</span>,\n",
       " <span> 56 Reviews</span>,\n",
       " <span>28% off</span>,\n",
       " <span class=\"f3A4_V\"><label class=\"_2iDkf8\"><input class=\"_30VH1S\" readonly=\"\" type=\"checkbox\"/><div class=\"_24_Dny\"></div></label></span>,\n",
       " <span>Add to Compare</span>,\n",
       " <span class=\"_1lRcqv\" id=\"productRating_LSTCOMG3HHRJNHEQ4HYT7GZED_COMG3HHRJNHEQ4HY_\"><div class=\"_3LWZlK\">5<img class=\"_1wB99o\" src=\"data:image/svg+xml;base64,PHN2ZyB4bWxucz0iaHR0cDovL3d3dy53My5vcmcvMjAwMC9zdmciIHdpZHRoPSIxMyIgaGVpZ2h0PSIxMiI+PHBhdGggZmlsbD0iI0ZGRiIgZD0iTTYuNSA5LjQzOWwtMy42NzQgMi4yMy45NC00LjI2LTMuMjEtMi44ODMgNC4yNTQtLjQwNEw2LjUuMTEybDEuNjkgNC4wMSA0LjI1NC40MDQtMy4yMSAyLjg4Mi45NCA0LjI2eiIvPjwvc3ZnPg==\"/></div></span>,\n",
       " <span class=\"_2_R_DZ\"><span><span>3 Ratings </span><span class=\"_13vcmD\">&amp;</span><span> 1 Reviews</span></span></span>,\n",
       " <span><span>3 Ratings </span><span class=\"_13vcmD\">&amp;</span><span> 1 Reviews</span></span>,\n",
       " <span>3 Ratings </span>,\n",
       " <span class=\"_13vcmD\">&amp;</span>,\n",
       " <span> 1 Reviews</span>,\n",
       " <span>25% off</span>,\n",
       " <span class=\"f3A4_V\"><label class=\"_2iDkf8\"><input class=\"_30VH1S\" readonly=\"\" type=\"checkbox\"/><div class=\"_24_Dny\"></div></label></span>,\n",
       " <span>Add to Compare</span>,\n",
       " <span class=\"_1lRcqv\" id=\"productRating_LSTCOMGFHGFZ7HFZSBAUX64XI_COMGFHGFZ7HFZSBA_\"><div class=\"_3LWZlK\">3.9<img class=\"_1wB99o\" src=\"data:image/svg+xml;base64,PHN2ZyB4bWxucz0iaHR0cDovL3d3dy53My5vcmcvMjAwMC9zdmciIHdpZHRoPSIxMyIgaGVpZ2h0PSIxMiI+PHBhdGggZmlsbD0iI0ZGRiIgZD0iTTYuNSA5LjQzOWwtMy42NzQgMi4yMy45NC00LjI2LTMuMjEtMi44ODMgNC4yNTQtLjQwNEw2LjUuMTEybDEuNjkgNC4wMSA0LjI1NC40MDQtMy4yMSAyLjg4Mi45NCA0LjI2eiIvPjwvc3ZnPg==\"/></div></span>,\n",
       " <span class=\"_2_R_DZ\"><span><span>895 Ratings </span><span class=\"_13vcmD\">&amp;</span><span> 111 Reviews</span></span></span>,\n",
       " <span><span>895 Ratings </span><span class=\"_13vcmD\">&amp;</span><span> 111 Reviews</span></span>,\n",
       " <span>895 Ratings </span>,\n",
       " <span class=\"_13vcmD\">&amp;</span>,\n",
       " <span> 111 Reviews</span>,\n",
       " <span>3% off</span>,\n",
       " <span class=\"f3A4_V\"><label class=\"_2iDkf8\"><input class=\"_30VH1S\" readonly=\"\" type=\"checkbox\"/><div class=\"_24_Dny\"></div></label></span>,\n",
       " <span>Add to Compare</span>,\n",
       " <span class=\"_1lRcqv\" id=\"productRating_LSTCOMG22MXAZQSA2FV8D2FDN_COMG22MXAZQSA2FV_\"><div class=\"_3LWZlK\">4.3<img class=\"_1wB99o\" src=\"data:image/svg+xml;base64,PHN2ZyB4bWxucz0iaHR0cDovL3d3dy53My5vcmcvMjAwMC9zdmciIHdpZHRoPSIxMyIgaGVpZ2h0PSIxMiI+PHBhdGggZmlsbD0iI0ZGRiIgZD0iTTYuNSA5LjQzOWwtMy42NzQgMi4yMy45NC00LjI2LTMuMjEtMi44ODMgNC4yNTQtLjQwNEw2LjUuMTEybDEuNjkgNC4wMSA0LjI1NC40MDQtMy4yMSAyLjg4Mi45NCA0LjI2eiIvPjwvc3ZnPg==\"/></div></span>,\n",
       " <span class=\"_2_R_DZ\"><span><span>583 Ratings </span><span class=\"_13vcmD\">&amp;</span><span> 64 Reviews</span></span></span>,\n",
       " <span><span>583 Ratings </span><span class=\"_13vcmD\">&amp;</span><span> 64 Reviews</span></span>,\n",
       " <span>583 Ratings </span>,\n",
       " <span class=\"_13vcmD\">&amp;</span>,\n",
       " <span> 64 Reviews</span>,\n",
       " <span>2% off</span>,\n",
       " <span class=\"f3A4_V\"><label class=\"_2iDkf8\"><input class=\"_30VH1S\" readonly=\"\" type=\"checkbox\"/><div class=\"_24_Dny\"></div></label></span>,\n",
       " <span>Add to Compare</span>,\n",
       " <span class=\"_1lRcqv\" id=\"productRating_LSTCOMGY8RDNJX8FWGHNMQSO2_COMGY8RDNJX8FWGH_\"><div class=\"_3LWZlK\">4.6<img class=\"_1wB99o\" src=\"data:image/svg+xml;base64,PHN2ZyB4bWxucz0iaHR0cDovL3d3dy53My5vcmcvMjAwMC9zdmciIHdpZHRoPSIxMyIgaGVpZ2h0PSIxMiI+PHBhdGggZmlsbD0iI0ZGRiIgZD0iTTYuNSA5LjQzOWwtMy42NzQgMi4yMy45NC00LjI2LTMuMjEtMi44ODMgNC4yNTQtLjQwNEw2LjUuMTEybDEuNjkgNC4wMSA0LjI1NC40MDQtMy4yMSAyLjg4Mi45NCA0LjI2eiIvPjwvc3ZnPg==\"/></div></span>,\n",
       " <span class=\"_2_R_DZ\"><span><span>358 Ratings </span><span class=\"_13vcmD\">&amp;</span><span> 56 Reviews</span></span></span>,\n",
       " <span><span>358 Ratings </span><span class=\"_13vcmD\">&amp;</span><span> 56 Reviews</span></span>,\n",
       " <span>358 Ratings </span>,\n",
       " <span class=\"_13vcmD\">&amp;</span>,\n",
       " <span> 56 Reviews</span>,\n",
       " <span>2% off</span>,\n",
       " <span>Page 1 of 29</span>,\n",
       " <span>Next</span>,\n",
       " <span class=\"_22Tduf\"></span>,\n",
       " <span class=\"PTpXCl\">Did you find what you were looking for?</span>,\n",
       " <span class=\"_2eFmU2 _3ZMjMT\">Yes</span>,\n",
       " <span class=\"_2eFmU2 _3ZMjMT\">No</span>,\n",
       " <span class=\"_34hpFu\"><span>7 Ratings</span><span><span class=\"_2oY1qB\">&amp;</span><span>2 Reviews</span></span></span>,\n",
       " <span>7 Ratings</span>,\n",
       " <span><span class=\"_2oY1qB\">&amp;</span><span>2 Reviews</span></span>,\n",
       " <span class=\"_2oY1qB\">&amp;</span>,\n",
       " <span>2 Reviews</span>,\n",
       " <span>11% off</span>,\n",
       " <span class=\"_1H-bmy\"><span>Read full review</span></span>,\n",
       " <span>Read full review</span>,\n",
       " <span>Certified Buyer</span>,\n",
       " <span class=\"_1H-bmy\"><span>Read full review</span></span>,\n",
       " <span>Read full review</span>,\n",
       " <span>Certified Buyer</span>,\n",
       " <span class=\"_34hpFu\"><span>585 Ratings</span><span><span class=\"_2oY1qB\">&amp;</span><span>64 Reviews</span></span></span>,\n",
       " <span>585 Ratings</span>,\n",
       " <span><span class=\"_2oY1qB\">&amp;</span><span>64 Reviews</span></span>,\n",
       " <span class=\"_2oY1qB\">&amp;</span>,\n",
       " <span>64 Reviews</span>,\n",
       " <span>10% off</span>,\n",
       " <span class=\"_1H-bmy\"><span>Read full review</span></span>,\n",
       " <span>Read full review</span>,\n",
       " <span>Certified Buyer</span>,\n",
       " <span class=\"_1BWGvX\"><span>Read full review</span></span>,\n",
       " <span>Read full review</span>,\n",
       " <span>Certified Buyer</span>,\n",
       " <span class=\"_34hpFu\"><span>714 Ratings</span><span><span class=\"_2oY1qB\">&amp;</span><span>75 Reviews</span></span></span>,\n",
       " <span>714 Ratings</span>,\n",
       " <span><span class=\"_2oY1qB\">&amp;</span><span>75 Reviews</span></span>,\n",
       " <span class=\"_2oY1qB\">&amp;</span>,\n",
       " <span>75 Reviews</span>,\n",
       " <span class=\"_1H-bmy\"><span>Read full review</span></span>,\n",
       " <span>Read full review</span>,\n",
       " <span>Certified Buyer</span>,\n",
       " <span class=\"_1H-bmy\"><span>Read full review</span></span>,\n",
       " <span>Read full review</span>,\n",
       " <span>Certified Buyer</span>,\n",
       " <span class=\"_34hpFu\"><span>583 Ratings</span><span><span class=\"_2oY1qB\">&amp;</span><span>64 Reviews</span></span></span>,\n",
       " <span>583 Ratings</span>,\n",
       " <span><span class=\"_2oY1qB\">&amp;</span><span>64 Reviews</span></span>,\n",
       " <span class=\"_2oY1qB\">&amp;</span>,\n",
       " <span>64 Reviews</span>,\n",
       " <span>2% off</span>,\n",
       " <span class=\"_1H-bmy\"><span>Read full review</span></span>,\n",
       " <span>Read full review</span>,\n",
       " <span>Certified Buyer</span>,\n",
       " <span class=\"_1H-bmy\"><span>Read full review</span></span>,\n",
       " <span>Read full review</span>,\n",
       " <span>Certified Buyer</span>,\n",
       " <span class=\"_34hpFu\"><span>1,516 Ratings</span><span><span class=\"_2oY1qB\">&amp;</span><span>181 Reviews</span></span></span>,\n",
       " <span>1,516 Ratings</span>,\n",
       " <span><span class=\"_2oY1qB\">&amp;</span><span>181 Reviews</span></span>,\n",
       " <span class=\"_2oY1qB\">&amp;</span>,\n",
       " <span>181 Reviews</span>,\n",
       " <span>5% off</span>,\n",
       " <span class=\"_1BWGvX\"><span>Read full review</span></span>,\n",
       " <span>Read full review</span>,\n",
       " <span>Certified Buyer</span>,\n",
       " <span class=\"_1H-bmy\"><span>Read full review</span></span>,\n",
       " <span>Read full review</span>,\n",
       " <span>Certified Buyer</span>,\n",
       " <span>Mail Us:</span>,\n",
       " <span>Registered Office Address:</span>,\n",
       " <span class=\"hDTmm5\">Sell On Flipkart</span>,\n",
       " <span class=\"hDTmm5\">Advertise</span>,\n",
       " <span class=\"hDTmm5\">Gift Cards</span>,\n",
       " <span class=\"hDTmm5\">Help Center</span>,\n",
       " <span class=\"z3ht-w\">© 2007-<!-- -->2021<!-- --> <span>Flipkart.com</span></span>,\n",
       " <span>Flipkart.com</span>,\n",
       " <span>Back to top</span>]"
      ]
     },
     "metadata": {},
     "execution_count": 40
    }
   ],
   "source": [
    "discount = soup.find_all('span')\n",
    "discount # There are many span tags, but we need to find only the tags which contain discount "
   ]
  },
  {
   "cell_type": "code",
   "execution_count": 41,
   "metadata": {
    "colab": {
     "base_uri": "https://localhost:8080/",
     "height": 34
    },
    "colab_type": "code",
    "id": "ZADMI1Ml6ylI",
    "outputId": "f320ae88-4676-426c-b7a4-6858943e8bbd"
   },
   "outputs": [
    {
     "output_type": "execute_result",
     "data": {
      "text/plain": [
       "26"
      ]
     },
     "metadata": {},
     "execution_count": 41
    }
   ],
   "source": [
    "discounts = []\n",
    "for i in range(0,len(discount)):\n",
    "    p=discount[i].text\n",
    "    if(\"% off\" in p): # Extracting the tags which contain the discount(all the discounts contain % off so checking with that condition we obtain all the laptops which have discounts)\n",
    "        discounts.append(p)\n",
    "discounts\n",
    "len(discounts) "
   ]
  },
  {
   "cell_type": "code",
   "execution_count": 42,
   "metadata": {
    "colab": {
     "base_uri": "https://localhost:8080/",
     "height": 459
    },
    "colab_type": "code",
    "id": "EwMdwork_sn4",
    "outputId": "19aa4aba-1fd0-4ff1-c914-75214434b62c"
   },
   "outputs": [
    {
     "output_type": "execute_result",
     "data": {
      "text/plain": [
       "['25% off',\n",
       " '5% off',\n",
       " '10% off',\n",
       " '21% off',\n",
       " '21% off',\n",
       " '8% off',\n",
       " '10% off',\n",
       " '27% off',\n",
       " '36% off',\n",
       " '7% off',\n",
       " '15% off',\n",
       " '10% off',\n",
       " '5% off',\n",
       " '27% off',\n",
       " '9% off',\n",
       " '11% off',\n",
       " '22% off',\n",
       " '28% off',\n",
       " '25% off',\n",
       " '3% off',\n",
       " '2% off',\n",
       " '2% off',\n",
       " '11% off',\n",
       " '10% off',\n",
       " '2% off',\n",
       " '5% off']"
      ]
     },
     "metadata": {},
     "execution_count": 42
    }
   ],
   "source": [
    "discounts"
   ]
  },
  {
   "cell_type": "code",
   "execution_count": 54,
   "metadata": {
    "colab": {},
    "colab_type": "code",
    "id": "Gvp_bguV7AxW"
   },
   "outputs": [],
   "source": [
    "d = {'Description':descriptions,'RAM':ram,'Operating System':os,'Storage':storage,'Display':inches,'Price':prices}\n",
    "dataset = pd.DataFrame(data = d) # Finally merging all the features into a single dataframe"
   ]
  },
  {
   "cell_type": "code",
   "execution_count": 55,
   "metadata": {},
   "outputs": [
    {
     "output_type": "execute_result",
     "data": {
      "text/plain": [
       "24"
      ]
     },
     "metadata": {},
     "execution_count": 55
    }
   ],
   "source": [
    "len(prices)"
   ]
  },
  {
   "cell_type": "code",
   "execution_count": 56,
   "metadata": {
    "colab": {
     "base_uri": "https://localhost:8080/",
     "height": 1000
    },
    "colab_type": "code",
    "id": "LuGVkzQH7nBa",
    "outputId": "02ba7876-c7f8-4827-a0d1-ee3a9a30b3f1"
   },
   "outputs": [
    {
     "output_type": "execute_result",
     "data": {
      "text/plain": [
       "                                          Description             RAM  \\\n",
       "0   Add to CompareASUS TUF Gaming F15 Core i5 10th...   8 GB DDR4 RAM   \n",
       "1   Add to CompareHP 15s Ryzen 3 Dual Core 3250U -...   8 GB DDR4 RAM   \n",
       "2   Add to CompareHP 15s Ryzen 3 Dual Core 3250U -...   8 GB DDR4 RAM   \n",
       "3   Add to CompareLenovo Lenovo V Athlon Dual Core...   4 GB DDR4 RAM   \n",
       "4   Add to CompareLenovo V Series Athlon Dual Core...   4 GB DDR4 RAM   \n",
       "5   Add to CompareHP Core i3 11th Gen - (8 GB/256 ...   8 GB DDR4 RAM   \n",
       "6   Add to CompareHP 14s Core i3 11th Gen - (8 GB/...   8 GB DDR4 RAM   \n",
       "7   Add to CompareASUS vivobook Flip 14 Core i3 11...   8 GB DDR4 RAM   \n",
       "8   Add to CompareAPPLE MacBook Air M1 - (8 GB/256...   8 GB DDR4 RAM   \n",
       "9   Add to Compareacer Aspire 7 Core i5 10th Gen -...   8 GB DDR4 RAM   \n",
       "10  Add to CompareHP 14s Core i3 11th Gen - (8 GB/...   8 GB DDR4 RAM   \n",
       "11  Add to CompareASUS VivoBook 15 Core i3 10th Ge...   8 GB DDR4 RAM   \n",
       "12  Add to CompareDELL Vostro Core i3 10th Gen - (...   8 GB DDR4 RAM   \n",
       "13  Add to CompareHP 15s Core i3 11th Gen - (8 GB/...   8 GB DDR4 RAM   \n",
       "14  Add to CompareHP Pavilion Gaming Ryzen 5 Quad ...   8 GB DDR4 RAM   \n",
       "15  Add to CompareLenovo Ideapad Gaming 3 Ryzen 5 ...   8 GB DDR4 RAM   \n",
       "16  Add to CompareHP Pavilion Gaming Ryzen 5 Quad ...   8 GB DDR4 RAM   \n",
       "17  Add to CompareHP G Series Core i3 10th Gen - (...   4 GB DDR4 RAM   \n",
       "18  Add to CompareASUS Core i3 10th Gen - (4 GB/51...   4 GB DDR4 RAM   \n",
       "19  Add to CompareASUS Vivobook Gaming Core i5 9th...   8 GB DDR4 RAM   \n",
       "20  Add to CompareLenovo IdeaPad Core i3 11th Gen ...   8 GB DDR4 RAM   \n",
       "21  Add to CompareHP 15s Athlon Dual Core - (4 GB/...   4 GB DDR4 RAM   \n",
       "22  Add to CompareHP 15s Core i3 10th Gen - (8 GB/...   8 GB DDR4 RAM   \n",
       "23  Add to CompareHP Pavilion Core i5 11th Gen - (...  16 GB DDR4 RAM   \n",
       "\n",
       "                      Operating System              Storage  \\\n",
       "0   64 bit Windows 10 Operating System           512 GB SSD   \n",
       "1   64 bit Windows 10 Operating System  1 TB HDD|256 GB SSD   \n",
       "2   64 bit Windows 10 Operating System             1 TB HDD   \n",
       "3   64 bit Windows 10 Operating System             1 TB HDD   \n",
       "4   64 bit Windows 10 Operating System             1 TB HDD   \n",
       "5   64 bit Windows 10 Operating System           256 GB SSD   \n",
       "6   64 bit Windows 10 Operating System           256 GB SSD   \n",
       "7   64 bit Windows 10 Operating System           256 GB SSD   \n",
       "8              Mac OS Operating System           256 GB SSD   \n",
       "9   64 bit Windows 10 Operating System           512 GB SSD   \n",
       "10  64 bit Windows 10 Operating System           512 GB SSD   \n",
       "11  64 bit Windows 10 Operating System             1 TB HDD   \n",
       "12  64 bit Windows 10 Operating System             1 TB HDD   \n",
       "13  64 bit Windows 10 Operating System             1 TB HDD   \n",
       "14  64 bit Windows 10 Operating System           512 GB SSD   \n",
       "15  64 bit Windows 10 Operating System  1 TB HDD|256 GB SSD   \n",
       "16  64 bit Windows 10 Operating System             1 TB HDD   \n",
       "17  64 bit Windows 10 Operating System           512 GB SSD   \n",
       "18  64 bit Windows 10 Operating System           512 GB SSD   \n",
       "19  64 bit Windows 10 Operating System           512 GB SSD   \n",
       "20  64 bit Windows 10 Operating System           256 GB SSD   \n",
       "21  64 bit Windows 10 Operating System             1 TB HDD   \n",
       "22  64 bit Windows 10 Operating System  1 TB HDD|256 GB SSD   \n",
       "23  64 bit Windows 10 Operating System           512 GB SSD   \n",
       "\n",
       "                                   Display    Price  \n",
       "0             39.62 cm (15.6 inch) Display  ₹60,990  \n",
       "1             39.62 cm (15.6 inch) Display  ₹41,990  \n",
       "2             39.62 cm (15.6 inch) Display  ₹36,490  \n",
       "3           39.62 cm (15.6 inches) Display  ₹25,990  \n",
       "4             39.62 cm (15.6 Inch) Display  ₹25,990  \n",
       "5             39.62 cm (15.6 inch) Display  ₹40,990  \n",
       "6               35.56 cm (14 inch) Display  ₹40,990  \n",
       "7   35.56 cm (14 inch) Touchscreen Display  ₹46,990  \n",
       "8             33.78 cm (13.3 inch) Display  ₹92,900  \n",
       "9             39.62 cm (15.6 inch) Display  ₹56,990  \n",
       "10              35.56 cm (14 inch) Display  ₹46,990  \n",
       "11            39.62 cm (15.6 inch) Display  ₹38,990  \n",
       "12              35.56 cm (14 inch) Display  ₹37,342  \n",
       "13            39.62 cm (15.6 inch) Display  ₹41,990  \n",
       "14            39.62 cm (15.6 inch) Display  ₹56,990  \n",
       "15            39.62 cm (15.6 inch) Display  ₹62,990  \n",
       "16            39.62 cm (15.6 inch) Display  ₹50,990  \n",
       "17            39.62 cm (15.6 inch) Display  ₹38,990  \n",
       "18              35.56 cm (14 inch) Display  ₹38,990  \n",
       "19            39.62 cm (15.6 inch) Display  ₹54,990  \n",
       "20              35.56 cm (14 Inch) Display  ₹43,990  \n",
       "21            39.62 cm (15.6 inch) Display  ₹27,490  \n",
       "22            39.62 cm (15.6 inch) Display  ₹43,790  \n",
       "23              35.56 cm (14 inch) Display  ₹66,990  "
      ],
      "text/html": "<div>\n<style scoped>\n    .dataframe tbody tr th:only-of-type {\n        vertical-align: middle;\n    }\n\n    .dataframe tbody tr th {\n        vertical-align: top;\n    }\n\n    .dataframe thead th {\n        text-align: right;\n    }\n</style>\n<table border=\"1\" class=\"dataframe\">\n  <thead>\n    <tr style=\"text-align: right;\">\n      <th></th>\n      <th>Description</th>\n      <th>RAM</th>\n      <th>Operating System</th>\n      <th>Storage</th>\n      <th>Display</th>\n      <th>Price</th>\n    </tr>\n  </thead>\n  <tbody>\n    <tr>\n      <th>0</th>\n      <td>Add to CompareASUS TUF Gaming F15 Core i5 10th...</td>\n      <td>8 GB DDR4 RAM</td>\n      <td>64 bit Windows 10 Operating System</td>\n      <td>512 GB SSD</td>\n      <td>39.62 cm (15.6 inch) Display</td>\n      <td>₹60,990</td>\n    </tr>\n    <tr>\n      <th>1</th>\n      <td>Add to CompareHP 15s Ryzen 3 Dual Core 3250U -...</td>\n      <td>8 GB DDR4 RAM</td>\n      <td>64 bit Windows 10 Operating System</td>\n      <td>1 TB HDD|256 GB SSD</td>\n      <td>39.62 cm (15.6 inch) Display</td>\n      <td>₹41,990</td>\n    </tr>\n    <tr>\n      <th>2</th>\n      <td>Add to CompareHP 15s Ryzen 3 Dual Core 3250U -...</td>\n      <td>8 GB DDR4 RAM</td>\n      <td>64 bit Windows 10 Operating System</td>\n      <td>1 TB HDD</td>\n      <td>39.62 cm (15.6 inch) Display</td>\n      <td>₹36,490</td>\n    </tr>\n    <tr>\n      <th>3</th>\n      <td>Add to CompareLenovo Lenovo V Athlon Dual Core...</td>\n      <td>4 GB DDR4 RAM</td>\n      <td>64 bit Windows 10 Operating System</td>\n      <td>1 TB HDD</td>\n      <td>39.62 cm (15.6 inches) Display</td>\n      <td>₹25,990</td>\n    </tr>\n    <tr>\n      <th>4</th>\n      <td>Add to CompareLenovo V Series Athlon Dual Core...</td>\n      <td>4 GB DDR4 RAM</td>\n      <td>64 bit Windows 10 Operating System</td>\n      <td>1 TB HDD</td>\n      <td>39.62 cm (15.6 Inch) Display</td>\n      <td>₹25,990</td>\n    </tr>\n    <tr>\n      <th>5</th>\n      <td>Add to CompareHP Core i3 11th Gen - (8 GB/256 ...</td>\n      <td>8 GB DDR4 RAM</td>\n      <td>64 bit Windows 10 Operating System</td>\n      <td>256 GB SSD</td>\n      <td>39.62 cm (15.6 inch) Display</td>\n      <td>₹40,990</td>\n    </tr>\n    <tr>\n      <th>6</th>\n      <td>Add to CompareHP 14s Core i3 11th Gen - (8 GB/...</td>\n      <td>8 GB DDR4 RAM</td>\n      <td>64 bit Windows 10 Operating System</td>\n      <td>256 GB SSD</td>\n      <td>35.56 cm (14 inch) Display</td>\n      <td>₹40,990</td>\n    </tr>\n    <tr>\n      <th>7</th>\n      <td>Add to CompareASUS vivobook Flip 14 Core i3 11...</td>\n      <td>8 GB DDR4 RAM</td>\n      <td>64 bit Windows 10 Operating System</td>\n      <td>256 GB SSD</td>\n      <td>35.56 cm (14 inch) Touchscreen Display</td>\n      <td>₹46,990</td>\n    </tr>\n    <tr>\n      <th>8</th>\n      <td>Add to CompareAPPLE MacBook Air M1 - (8 GB/256...</td>\n      <td>8 GB DDR4 RAM</td>\n      <td>Mac OS Operating System</td>\n      <td>256 GB SSD</td>\n      <td>33.78 cm (13.3 inch) Display</td>\n      <td>₹92,900</td>\n    </tr>\n    <tr>\n      <th>9</th>\n      <td>Add to Compareacer Aspire 7 Core i5 10th Gen -...</td>\n      <td>8 GB DDR4 RAM</td>\n      <td>64 bit Windows 10 Operating System</td>\n      <td>512 GB SSD</td>\n      <td>39.62 cm (15.6 inch) Display</td>\n      <td>₹56,990</td>\n    </tr>\n    <tr>\n      <th>10</th>\n      <td>Add to CompareHP 14s Core i3 11th Gen - (8 GB/...</td>\n      <td>8 GB DDR4 RAM</td>\n      <td>64 bit Windows 10 Operating System</td>\n      <td>512 GB SSD</td>\n      <td>35.56 cm (14 inch) Display</td>\n      <td>₹46,990</td>\n    </tr>\n    <tr>\n      <th>11</th>\n      <td>Add to CompareASUS VivoBook 15 Core i3 10th Ge...</td>\n      <td>8 GB DDR4 RAM</td>\n      <td>64 bit Windows 10 Operating System</td>\n      <td>1 TB HDD</td>\n      <td>39.62 cm (15.6 inch) Display</td>\n      <td>₹38,990</td>\n    </tr>\n    <tr>\n      <th>12</th>\n      <td>Add to CompareDELL Vostro Core i3 10th Gen - (...</td>\n      <td>8 GB DDR4 RAM</td>\n      <td>64 bit Windows 10 Operating System</td>\n      <td>1 TB HDD</td>\n      <td>35.56 cm (14 inch) Display</td>\n      <td>₹37,342</td>\n    </tr>\n    <tr>\n      <th>13</th>\n      <td>Add to CompareHP 15s Core i3 11th Gen - (8 GB/...</td>\n      <td>8 GB DDR4 RAM</td>\n      <td>64 bit Windows 10 Operating System</td>\n      <td>1 TB HDD</td>\n      <td>39.62 cm (15.6 inch) Display</td>\n      <td>₹41,990</td>\n    </tr>\n    <tr>\n      <th>14</th>\n      <td>Add to CompareHP Pavilion Gaming Ryzen 5 Quad ...</td>\n      <td>8 GB DDR4 RAM</td>\n      <td>64 bit Windows 10 Operating System</td>\n      <td>512 GB SSD</td>\n      <td>39.62 cm (15.6 inch) Display</td>\n      <td>₹56,990</td>\n    </tr>\n    <tr>\n      <th>15</th>\n      <td>Add to CompareLenovo Ideapad Gaming 3 Ryzen 5 ...</td>\n      <td>8 GB DDR4 RAM</td>\n      <td>64 bit Windows 10 Operating System</td>\n      <td>1 TB HDD|256 GB SSD</td>\n      <td>39.62 cm (15.6 inch) Display</td>\n      <td>₹62,990</td>\n    </tr>\n    <tr>\n      <th>16</th>\n      <td>Add to CompareHP Pavilion Gaming Ryzen 5 Quad ...</td>\n      <td>8 GB DDR4 RAM</td>\n      <td>64 bit Windows 10 Operating System</td>\n      <td>1 TB HDD</td>\n      <td>39.62 cm (15.6 inch) Display</td>\n      <td>₹50,990</td>\n    </tr>\n    <tr>\n      <th>17</th>\n      <td>Add to CompareHP G Series Core i3 10th Gen - (...</td>\n      <td>4 GB DDR4 RAM</td>\n      <td>64 bit Windows 10 Operating System</td>\n      <td>512 GB SSD</td>\n      <td>39.62 cm (15.6 inch) Display</td>\n      <td>₹38,990</td>\n    </tr>\n    <tr>\n      <th>18</th>\n      <td>Add to CompareASUS Core i3 10th Gen - (4 GB/51...</td>\n      <td>4 GB DDR4 RAM</td>\n      <td>64 bit Windows 10 Operating System</td>\n      <td>512 GB SSD</td>\n      <td>35.56 cm (14 inch) Display</td>\n      <td>₹38,990</td>\n    </tr>\n    <tr>\n      <th>19</th>\n      <td>Add to CompareASUS Vivobook Gaming Core i5 9th...</td>\n      <td>8 GB DDR4 RAM</td>\n      <td>64 bit Windows 10 Operating System</td>\n      <td>512 GB SSD</td>\n      <td>39.62 cm (15.6 inch) Display</td>\n      <td>₹54,990</td>\n    </tr>\n    <tr>\n      <th>20</th>\n      <td>Add to CompareLenovo IdeaPad Core i3 11th Gen ...</td>\n      <td>8 GB DDR4 RAM</td>\n      <td>64 bit Windows 10 Operating System</td>\n      <td>256 GB SSD</td>\n      <td>35.56 cm (14 Inch) Display</td>\n      <td>₹43,990</td>\n    </tr>\n    <tr>\n      <th>21</th>\n      <td>Add to CompareHP 15s Athlon Dual Core - (4 GB/...</td>\n      <td>4 GB DDR4 RAM</td>\n      <td>64 bit Windows 10 Operating System</td>\n      <td>1 TB HDD</td>\n      <td>39.62 cm (15.6 inch) Display</td>\n      <td>₹27,490</td>\n    </tr>\n    <tr>\n      <th>22</th>\n      <td>Add to CompareHP 15s Core i3 10th Gen - (8 GB/...</td>\n      <td>8 GB DDR4 RAM</td>\n      <td>64 bit Windows 10 Operating System</td>\n      <td>1 TB HDD|256 GB SSD</td>\n      <td>39.62 cm (15.6 inch) Display</td>\n      <td>₹43,790</td>\n    </tr>\n    <tr>\n      <th>23</th>\n      <td>Add to CompareHP Pavilion Core i5 11th Gen - (...</td>\n      <td>16 GB DDR4 RAM</td>\n      <td>64 bit Windows 10 Operating System</td>\n      <td>512 GB SSD</td>\n      <td>35.56 cm (14 inch) Display</td>\n      <td>₹66,990</td>\n    </tr>\n  </tbody>\n</table>\n</div>"
     },
     "metadata": {},
     "execution_count": 56
    }
   ],
   "source": [
    "dataset"
   ]
  },
  {
   "cell_type": "code",
   "execution_count": 57,
   "metadata": {},
   "outputs": [],
   "source": [
    "dataset.to_csv('laptops.csv')"
   ]
  },
  {
   "cell_type": "code",
   "execution_count": 58,
   "metadata": {},
   "outputs": [
    {
     "output_type": "execute_result",
     "data": {
      "text/plain": [
       "(24, 7)"
      ]
     },
     "metadata": {},
     "execution_count": 58
    }
   ],
   "source": [
    "df = pd.read_csv('laptops.csv')\n",
    "df.shape"
   ]
  },
  {
   "cell_type": "code",
   "execution_count": null,
   "metadata": {},
   "outputs": [],
   "source": []
  },
  {
   "cell_type": "code",
   "execution_count": 59,
   "metadata": {},
   "outputs": [
    {
     "output_type": "execute_result",
     "data": {
      "text/plain": [
       "    Unnamed: 0                                        Description  \\\n",
       "0            0  Add to CompareASUS TUF Gaming F15 Core i5 10th...   \n",
       "1            1  Add to CompareHP 15s Ryzen 3 Dual Core 3250U -...   \n",
       "2            2  Add to CompareHP 15s Ryzen 3 Dual Core 3250U -...   \n",
       "3            3  Add to CompareLenovo Lenovo V Athlon Dual Core...   \n",
       "4            4  Add to CompareLenovo V Series Athlon Dual Core...   \n",
       "5            5  Add to CompareHP Core i3 11th Gen - (8 GB/256 ...   \n",
       "6            6  Add to CompareHP 14s Core i3 11th Gen - (8 GB/...   \n",
       "7            7  Add to CompareASUS vivobook Flip 14 Core i3 11...   \n",
       "8            8  Add to CompareAPPLE MacBook Air M1 - (8 GB/256...   \n",
       "9            9  Add to Compareacer Aspire 7 Core i5 10th Gen -...   \n",
       "10          10  Add to CompareHP 14s Core i3 11th Gen - (8 GB/...   \n",
       "11          11  Add to CompareASUS VivoBook 15 Core i3 10th Ge...   \n",
       "12          12  Add to CompareDELL Vostro Core i3 10th Gen - (...   \n",
       "13          13  Add to CompareHP 15s Core i3 11th Gen - (8 GB/...   \n",
       "14          14  Add to CompareHP Pavilion Gaming Ryzen 5 Quad ...   \n",
       "15          15  Add to CompareLenovo Ideapad Gaming 3 Ryzen 5 ...   \n",
       "16          16  Add to CompareHP Pavilion Gaming Ryzen 5 Quad ...   \n",
       "17          17  Add to CompareHP G Series Core i3 10th Gen - (...   \n",
       "18          18  Add to CompareASUS Core i3 10th Gen - (4 GB/51...   \n",
       "19          19  Add to CompareASUS Vivobook Gaming Core i5 9th...   \n",
       "20          20  Add to CompareLenovo IdeaPad Core i3 11th Gen ...   \n",
       "21          21  Add to CompareHP 15s Athlon Dual Core - (4 GB/...   \n",
       "22          22  Add to CompareHP 15s Core i3 10th Gen - (8 GB/...   \n",
       "23          23  Add to CompareHP Pavilion Core i5 11th Gen - (...   \n",
       "\n",
       "               RAM                    Operating System              Storage  \\\n",
       "0    8 GB DDR4 RAM  64 bit Windows 10 Operating System           512 GB SSD   \n",
       "1    8 GB DDR4 RAM  64 bit Windows 10 Operating System  1 TB HDD|256 GB SSD   \n",
       "2    8 GB DDR4 RAM  64 bit Windows 10 Operating System             1 TB HDD   \n",
       "3    4 GB DDR4 RAM  64 bit Windows 10 Operating System             1 TB HDD   \n",
       "4    4 GB DDR4 RAM  64 bit Windows 10 Operating System             1 TB HDD   \n",
       "5    8 GB DDR4 RAM  64 bit Windows 10 Operating System           256 GB SSD   \n",
       "6    8 GB DDR4 RAM  64 bit Windows 10 Operating System           256 GB SSD   \n",
       "7    8 GB DDR4 RAM  64 bit Windows 10 Operating System           256 GB SSD   \n",
       "8    8 GB DDR4 RAM             Mac OS Operating System           256 GB SSD   \n",
       "9    8 GB DDR4 RAM  64 bit Windows 10 Operating System           512 GB SSD   \n",
       "10   8 GB DDR4 RAM  64 bit Windows 10 Operating System           512 GB SSD   \n",
       "11   8 GB DDR4 RAM  64 bit Windows 10 Operating System             1 TB HDD   \n",
       "12   8 GB DDR4 RAM  64 bit Windows 10 Operating System             1 TB HDD   \n",
       "13   8 GB DDR4 RAM  64 bit Windows 10 Operating System             1 TB HDD   \n",
       "14   8 GB DDR4 RAM  64 bit Windows 10 Operating System           512 GB SSD   \n",
       "15   8 GB DDR4 RAM  64 bit Windows 10 Operating System  1 TB HDD|256 GB SSD   \n",
       "16   8 GB DDR4 RAM  64 bit Windows 10 Operating System             1 TB HDD   \n",
       "17   4 GB DDR4 RAM  64 bit Windows 10 Operating System           512 GB SSD   \n",
       "18   4 GB DDR4 RAM  64 bit Windows 10 Operating System           512 GB SSD   \n",
       "19   8 GB DDR4 RAM  64 bit Windows 10 Operating System           512 GB SSD   \n",
       "20   8 GB DDR4 RAM  64 bit Windows 10 Operating System           256 GB SSD   \n",
       "21   4 GB DDR4 RAM  64 bit Windows 10 Operating System             1 TB HDD   \n",
       "22   8 GB DDR4 RAM  64 bit Windows 10 Operating System  1 TB HDD|256 GB SSD   \n",
       "23  16 GB DDR4 RAM  64 bit Windows 10 Operating System           512 GB SSD   \n",
       "\n",
       "                                   Display    Price  \n",
       "0             39.62 cm (15.6 inch) Display  ₹60,990  \n",
       "1             39.62 cm (15.6 inch) Display  ₹41,990  \n",
       "2             39.62 cm (15.6 inch) Display  ₹36,490  \n",
       "3           39.62 cm (15.6 inches) Display  ₹25,990  \n",
       "4             39.62 cm (15.6 Inch) Display  ₹25,990  \n",
       "5             39.62 cm (15.6 inch) Display  ₹40,990  \n",
       "6               35.56 cm (14 inch) Display  ₹40,990  \n",
       "7   35.56 cm (14 inch) Touchscreen Display  ₹46,990  \n",
       "8             33.78 cm (13.3 inch) Display  ₹92,900  \n",
       "9             39.62 cm (15.6 inch) Display  ₹56,990  \n",
       "10              35.56 cm (14 inch) Display  ₹46,990  \n",
       "11            39.62 cm (15.6 inch) Display  ₹38,990  \n",
       "12              35.56 cm (14 inch) Display  ₹37,342  \n",
       "13            39.62 cm (15.6 inch) Display  ₹41,990  \n",
       "14            39.62 cm (15.6 inch) Display  ₹56,990  \n",
       "15            39.62 cm (15.6 inch) Display  ₹62,990  \n",
       "16            39.62 cm (15.6 inch) Display  ₹50,990  \n",
       "17            39.62 cm (15.6 inch) Display  ₹38,990  \n",
       "18              35.56 cm (14 inch) Display  ₹38,990  \n",
       "19            39.62 cm (15.6 inch) Display  ₹54,990  \n",
       "20              35.56 cm (14 Inch) Display  ₹43,990  \n",
       "21            39.62 cm (15.6 inch) Display  ₹27,490  \n",
       "22            39.62 cm (15.6 inch) Display  ₹43,790  \n",
       "23              35.56 cm (14 inch) Display  ₹66,990  "
      ],
      "text/html": "<div>\n<style scoped>\n    .dataframe tbody tr th:only-of-type {\n        vertical-align: middle;\n    }\n\n    .dataframe tbody tr th {\n        vertical-align: top;\n    }\n\n    .dataframe thead th {\n        text-align: right;\n    }\n</style>\n<table border=\"1\" class=\"dataframe\">\n  <thead>\n    <tr style=\"text-align: right;\">\n      <th></th>\n      <th>Unnamed: 0</th>\n      <th>Description</th>\n      <th>RAM</th>\n      <th>Operating System</th>\n      <th>Storage</th>\n      <th>Display</th>\n      <th>Price</th>\n    </tr>\n  </thead>\n  <tbody>\n    <tr>\n      <th>0</th>\n      <td>0</td>\n      <td>Add to CompareASUS TUF Gaming F15 Core i5 10th...</td>\n      <td>8 GB DDR4 RAM</td>\n      <td>64 bit Windows 10 Operating System</td>\n      <td>512 GB SSD</td>\n      <td>39.62 cm (15.6 inch) Display</td>\n      <td>₹60,990</td>\n    </tr>\n    <tr>\n      <th>1</th>\n      <td>1</td>\n      <td>Add to CompareHP 15s Ryzen 3 Dual Core 3250U -...</td>\n      <td>8 GB DDR4 RAM</td>\n      <td>64 bit Windows 10 Operating System</td>\n      <td>1 TB HDD|256 GB SSD</td>\n      <td>39.62 cm (15.6 inch) Display</td>\n      <td>₹41,990</td>\n    </tr>\n    <tr>\n      <th>2</th>\n      <td>2</td>\n      <td>Add to CompareHP 15s Ryzen 3 Dual Core 3250U -...</td>\n      <td>8 GB DDR4 RAM</td>\n      <td>64 bit Windows 10 Operating System</td>\n      <td>1 TB HDD</td>\n      <td>39.62 cm (15.6 inch) Display</td>\n      <td>₹36,490</td>\n    </tr>\n    <tr>\n      <th>3</th>\n      <td>3</td>\n      <td>Add to CompareLenovo Lenovo V Athlon Dual Core...</td>\n      <td>4 GB DDR4 RAM</td>\n      <td>64 bit Windows 10 Operating System</td>\n      <td>1 TB HDD</td>\n      <td>39.62 cm (15.6 inches) Display</td>\n      <td>₹25,990</td>\n    </tr>\n    <tr>\n      <th>4</th>\n      <td>4</td>\n      <td>Add to CompareLenovo V Series Athlon Dual Core...</td>\n      <td>4 GB DDR4 RAM</td>\n      <td>64 bit Windows 10 Operating System</td>\n      <td>1 TB HDD</td>\n      <td>39.62 cm (15.6 Inch) Display</td>\n      <td>₹25,990</td>\n    </tr>\n    <tr>\n      <th>5</th>\n      <td>5</td>\n      <td>Add to CompareHP Core i3 11th Gen - (8 GB/256 ...</td>\n      <td>8 GB DDR4 RAM</td>\n      <td>64 bit Windows 10 Operating System</td>\n      <td>256 GB SSD</td>\n      <td>39.62 cm (15.6 inch) Display</td>\n      <td>₹40,990</td>\n    </tr>\n    <tr>\n      <th>6</th>\n      <td>6</td>\n      <td>Add to CompareHP 14s Core i3 11th Gen - (8 GB/...</td>\n      <td>8 GB DDR4 RAM</td>\n      <td>64 bit Windows 10 Operating System</td>\n      <td>256 GB SSD</td>\n      <td>35.56 cm (14 inch) Display</td>\n      <td>₹40,990</td>\n    </tr>\n    <tr>\n      <th>7</th>\n      <td>7</td>\n      <td>Add to CompareASUS vivobook Flip 14 Core i3 11...</td>\n      <td>8 GB DDR4 RAM</td>\n      <td>64 bit Windows 10 Operating System</td>\n      <td>256 GB SSD</td>\n      <td>35.56 cm (14 inch) Touchscreen Display</td>\n      <td>₹46,990</td>\n    </tr>\n    <tr>\n      <th>8</th>\n      <td>8</td>\n      <td>Add to CompareAPPLE MacBook Air M1 - (8 GB/256...</td>\n      <td>8 GB DDR4 RAM</td>\n      <td>Mac OS Operating System</td>\n      <td>256 GB SSD</td>\n      <td>33.78 cm (13.3 inch) Display</td>\n      <td>₹92,900</td>\n    </tr>\n    <tr>\n      <th>9</th>\n      <td>9</td>\n      <td>Add to Compareacer Aspire 7 Core i5 10th Gen -...</td>\n      <td>8 GB DDR4 RAM</td>\n      <td>64 bit Windows 10 Operating System</td>\n      <td>512 GB SSD</td>\n      <td>39.62 cm (15.6 inch) Display</td>\n      <td>₹56,990</td>\n    </tr>\n    <tr>\n      <th>10</th>\n      <td>10</td>\n      <td>Add to CompareHP 14s Core i3 11th Gen - (8 GB/...</td>\n      <td>8 GB DDR4 RAM</td>\n      <td>64 bit Windows 10 Operating System</td>\n      <td>512 GB SSD</td>\n      <td>35.56 cm (14 inch) Display</td>\n      <td>₹46,990</td>\n    </tr>\n    <tr>\n      <th>11</th>\n      <td>11</td>\n      <td>Add to CompareASUS VivoBook 15 Core i3 10th Ge...</td>\n      <td>8 GB DDR4 RAM</td>\n      <td>64 bit Windows 10 Operating System</td>\n      <td>1 TB HDD</td>\n      <td>39.62 cm (15.6 inch) Display</td>\n      <td>₹38,990</td>\n    </tr>\n    <tr>\n      <th>12</th>\n      <td>12</td>\n      <td>Add to CompareDELL Vostro Core i3 10th Gen - (...</td>\n      <td>8 GB DDR4 RAM</td>\n      <td>64 bit Windows 10 Operating System</td>\n      <td>1 TB HDD</td>\n      <td>35.56 cm (14 inch) Display</td>\n      <td>₹37,342</td>\n    </tr>\n    <tr>\n      <th>13</th>\n      <td>13</td>\n      <td>Add to CompareHP 15s Core i3 11th Gen - (8 GB/...</td>\n      <td>8 GB DDR4 RAM</td>\n      <td>64 bit Windows 10 Operating System</td>\n      <td>1 TB HDD</td>\n      <td>39.62 cm (15.6 inch) Display</td>\n      <td>₹41,990</td>\n    </tr>\n    <tr>\n      <th>14</th>\n      <td>14</td>\n      <td>Add to CompareHP Pavilion Gaming Ryzen 5 Quad ...</td>\n      <td>8 GB DDR4 RAM</td>\n      <td>64 bit Windows 10 Operating System</td>\n      <td>512 GB SSD</td>\n      <td>39.62 cm (15.6 inch) Display</td>\n      <td>₹56,990</td>\n    </tr>\n    <tr>\n      <th>15</th>\n      <td>15</td>\n      <td>Add to CompareLenovo Ideapad Gaming 3 Ryzen 5 ...</td>\n      <td>8 GB DDR4 RAM</td>\n      <td>64 bit Windows 10 Operating System</td>\n      <td>1 TB HDD|256 GB SSD</td>\n      <td>39.62 cm (15.6 inch) Display</td>\n      <td>₹62,990</td>\n    </tr>\n    <tr>\n      <th>16</th>\n      <td>16</td>\n      <td>Add to CompareHP Pavilion Gaming Ryzen 5 Quad ...</td>\n      <td>8 GB DDR4 RAM</td>\n      <td>64 bit Windows 10 Operating System</td>\n      <td>1 TB HDD</td>\n      <td>39.62 cm (15.6 inch) Display</td>\n      <td>₹50,990</td>\n    </tr>\n    <tr>\n      <th>17</th>\n      <td>17</td>\n      <td>Add to CompareHP G Series Core i3 10th Gen - (...</td>\n      <td>4 GB DDR4 RAM</td>\n      <td>64 bit Windows 10 Operating System</td>\n      <td>512 GB SSD</td>\n      <td>39.62 cm (15.6 inch) Display</td>\n      <td>₹38,990</td>\n    </tr>\n    <tr>\n      <th>18</th>\n      <td>18</td>\n      <td>Add to CompareASUS Core i3 10th Gen - (4 GB/51...</td>\n      <td>4 GB DDR4 RAM</td>\n      <td>64 bit Windows 10 Operating System</td>\n      <td>512 GB SSD</td>\n      <td>35.56 cm (14 inch) Display</td>\n      <td>₹38,990</td>\n    </tr>\n    <tr>\n      <th>19</th>\n      <td>19</td>\n      <td>Add to CompareASUS Vivobook Gaming Core i5 9th...</td>\n      <td>8 GB DDR4 RAM</td>\n      <td>64 bit Windows 10 Operating System</td>\n      <td>512 GB SSD</td>\n      <td>39.62 cm (15.6 inch) Display</td>\n      <td>₹54,990</td>\n    </tr>\n    <tr>\n      <th>20</th>\n      <td>20</td>\n      <td>Add to CompareLenovo IdeaPad Core i3 11th Gen ...</td>\n      <td>8 GB DDR4 RAM</td>\n      <td>64 bit Windows 10 Operating System</td>\n      <td>256 GB SSD</td>\n      <td>35.56 cm (14 Inch) Display</td>\n      <td>₹43,990</td>\n    </tr>\n    <tr>\n      <th>21</th>\n      <td>21</td>\n      <td>Add to CompareHP 15s Athlon Dual Core - (4 GB/...</td>\n      <td>4 GB DDR4 RAM</td>\n      <td>64 bit Windows 10 Operating System</td>\n      <td>1 TB HDD</td>\n      <td>39.62 cm (15.6 inch) Display</td>\n      <td>₹27,490</td>\n    </tr>\n    <tr>\n      <th>22</th>\n      <td>22</td>\n      <td>Add to CompareHP 15s Core i3 10th Gen - (8 GB/...</td>\n      <td>8 GB DDR4 RAM</td>\n      <td>64 bit Windows 10 Operating System</td>\n      <td>1 TB HDD|256 GB SSD</td>\n      <td>39.62 cm (15.6 inch) Display</td>\n      <td>₹43,790</td>\n    </tr>\n    <tr>\n      <th>23</th>\n      <td>23</td>\n      <td>Add to CompareHP Pavilion Core i5 11th Gen - (...</td>\n      <td>16 GB DDR4 RAM</td>\n      <td>64 bit Windows 10 Operating System</td>\n      <td>512 GB SSD</td>\n      <td>35.56 cm (14 inch) Display</td>\n      <td>₹66,990</td>\n    </tr>\n  </tbody>\n</table>\n</div>"
     },
     "metadata": {},
     "execution_count": 59
    }
   ],
   "source": [
    "df"
   ]
  },
  {
   "cell_type": "code",
   "execution_count": null,
   "metadata": {},
   "outputs": [],
   "source": []
  }
 ],
 "metadata": {
  "colab": {
   "collapsed_sections": [],
   "name": "finalnotebook.ipynb",
   "provenance": []
  },
  "kernelspec": {
   "name": "python3",
   "display_name": "Python 3.8.8 64-bit ('venv': conda)"
  },
  "language_info": {
   "codemirror_mode": {
    "name": "ipython",
    "version": 3
   },
   "file_extension": ".py",
   "mimetype": "text/x-python",
   "name": "python",
   "nbconvert_exporter": "python",
   "pygments_lexer": "ipython3",
   "version": "3.8.8"
  },
  "interpreter": {
   "hash": "8d45dd0fbce8951fa5a80a66163ebd9523af30b638025858a5eb10f05c0ee080"
  }
 },
 "nbformat": 4,
 "nbformat_minor": 1
}